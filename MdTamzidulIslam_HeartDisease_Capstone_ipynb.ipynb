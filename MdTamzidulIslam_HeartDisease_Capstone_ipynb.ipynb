{
 "cells": [
  {
   "cell_type": "markdown",
   "id": "0c39a509",
   "metadata": {},
   "source": [
    "# Md Tamzidul Islam"
   ]
  },
  {
   "cell_type": "markdown",
   "id": "8b528ab4",
   "metadata": {},
   "source": [
    "# Abstract"
   ]
  },
  {
   "cell_type": "markdown",
   "id": "6209a7ef",
   "metadata": {},
   "source": [
    "Various data mining methods have been developed and implemented in various real-world application areas, leading to the usage of such approaches in machine learning scenarios. Several well-known data mining approaches were created and used to do this. Investigate the advantages of utilizing a medical database to predict diseases and treat patients accurately. As previously demonstrated, one of the numerous applications of machine learning technology is the prediction of illness. The construction of a classifier system using machine learning algorithms has the ultimate objective of significantly contributing to the resolution of health-related problems by assisting medical professionals and directly to patients in the prediction and diagnosis of illnesses at an early stage.For the purposes of this study, a machine learning (ML) prediction system has been suggested to predict illnesses based on some of their symptoms. The study employed a data sample of 304 patient records.This project demonstrates an illness prediction system that was built using the Naive Bayes classifier and received accuracy scores ranging from 82 to 90 percent in each example."
   ]
  },
  {
   "cell_type": "markdown",
   "id": "1c6d9f94",
   "metadata": {},
   "source": [
    "# Objective:"
   ]
  },
  {
   "cell_type": "markdown",
   "id": "b2f441bb",
   "metadata": {},
   "source": [
    "The aim of this model is to predict the disease according to the some symptoms of that disease. And the objectives of this project are follows:\n",
    "\n",
    "•\tDo classification(Diseased or Not Diseased) on this data and choose the best model with highest accuracy.\n",
    "\n",
    "•\tTo provide no expense disease diagnosis.\n",
    "\n"
   ]
  },
  {
   "cell_type": "markdown",
   "id": "bbb5c0d8",
   "metadata": {},
   "source": [
    "# Project Development Steps"
   ]
  },
  {
   "cell_type": "markdown",
   "id": "63a971a4",
   "metadata": {},
   "source": [
    "1. Analyzing   the   problem   statement    requirements.\n",
    "2. Collect and clean the data.\n",
    "3. Prepare data for ML  application\n",
    "4. Train the models\n",
    "5. Testing Using Different Models And Evaluating Using Performance Metrics.\n",
    "6. Compare Models and Select the Best Model\n",
    "7. Build a Prediction System\n"
   ]
  },
  {
   "cell_type": "markdown",
   "id": "f2a8274a",
   "metadata": {},
   "source": [
    "# 1. Analyzing   the   problem   statement    requirements."
   ]
  },
  {
   "cell_type": "markdown",
   "id": "4c602ef3",
   "metadata": {},
   "source": [
    "Determine what we want to anticipate from the issue and what sort of observation data we have to generate those predictions by breaking down the problem into its constituent parts. Predictions are often accompanied with a label or a target response; it might be a yes/no label, a category, or a numerical figure, for example."
   ]
  },
  {
   "cell_type": "markdown",
   "id": "722d4fab",
   "metadata": {},
   "source": [
    "# 2. Collect and clean the data."
   ]
  },
  {
   "cell_type": "markdown",
   "id": "a4d82fd9",
   "metadata": {},
   "source": [
    "The first stage is to determine what sort of historical data we have for prediction modeling. The second step is to acquire the data from datasets or from any other data sources that may be available."
   ]
  },
  {
   "cell_type": "code",
   "execution_count": 257,
   "id": "0100b939",
   "metadata": {},
   "outputs": [],
   "source": [
    "# import Necessary Libraries\n",
    "import numpy as np\n",
    "import pandas as pd\n",
    "import matplotlib.pyplot as plt\n",
    "import warnings\n",
    "warnings.filterwarnings('ignore')"
   ]
  },
  {
   "cell_type": "code",
   "execution_count": 258,
   "id": "6f94254f",
   "metadata": {},
   "outputs": [
    {
     "data": {
      "text/plain": [
       "(303, 14)"
      ]
     },
     "execution_count": 258,
     "metadata": {},
     "output_type": "execute_result"
    }
   ],
   "source": [
    "# Read Dataset \n",
    "data=pd.read_csv(\"heart.csv\")\n",
    "# Findout shape(columns and rows no)\n",
    "data.shape"
   ]
  },
  {
   "cell_type": "code",
   "execution_count": 259,
   "id": "93ebdaf1",
   "metadata": {},
   "outputs": [
    {
     "data": {
      "text/html": [
       "<div>\n",
       "<style scoped>\n",
       "    .dataframe tbody tr th:only-of-type {\n",
       "        vertical-align: middle;\n",
       "    }\n",
       "\n",
       "    .dataframe tbody tr th {\n",
       "        vertical-align: top;\n",
       "    }\n",
       "\n",
       "    .dataframe thead th {\n",
       "        text-align: right;\n",
       "    }\n",
       "</style>\n",
       "<table border=\"1\" class=\"dataframe\">\n",
       "  <thead>\n",
       "    <tr style=\"text-align: right;\">\n",
       "      <th></th>\n",
       "      <th>age</th>\n",
       "      <th>sex</th>\n",
       "      <th>cp</th>\n",
       "      <th>trtbps</th>\n",
       "      <th>chol</th>\n",
       "      <th>fbs</th>\n",
       "      <th>restecg</th>\n",
       "      <th>thalachh</th>\n",
       "      <th>exng</th>\n",
       "      <th>oldpeak</th>\n",
       "      <th>slp</th>\n",
       "      <th>caa</th>\n",
       "      <th>thall</th>\n",
       "      <th>output</th>\n",
       "    </tr>\n",
       "  </thead>\n",
       "  <tbody>\n",
       "    <tr>\n",
       "      <th>0</th>\n",
       "      <td>63</td>\n",
       "      <td>1</td>\n",
       "      <td>3</td>\n",
       "      <td>145</td>\n",
       "      <td>233</td>\n",
       "      <td>1</td>\n",
       "      <td>0</td>\n",
       "      <td>150</td>\n",
       "      <td>0</td>\n",
       "      <td>2.3</td>\n",
       "      <td>0</td>\n",
       "      <td>0</td>\n",
       "      <td>1</td>\n",
       "      <td>1</td>\n",
       "    </tr>\n",
       "    <tr>\n",
       "      <th>1</th>\n",
       "      <td>37</td>\n",
       "      <td>1</td>\n",
       "      <td>2</td>\n",
       "      <td>130</td>\n",
       "      <td>250</td>\n",
       "      <td>0</td>\n",
       "      <td>1</td>\n",
       "      <td>187</td>\n",
       "      <td>0</td>\n",
       "      <td>3.5</td>\n",
       "      <td>0</td>\n",
       "      <td>0</td>\n",
       "      <td>2</td>\n",
       "      <td>1</td>\n",
       "    </tr>\n",
       "    <tr>\n",
       "      <th>2</th>\n",
       "      <td>41</td>\n",
       "      <td>0</td>\n",
       "      <td>1</td>\n",
       "      <td>130</td>\n",
       "      <td>204</td>\n",
       "      <td>0</td>\n",
       "      <td>0</td>\n",
       "      <td>172</td>\n",
       "      <td>0</td>\n",
       "      <td>1.4</td>\n",
       "      <td>2</td>\n",
       "      <td>0</td>\n",
       "      <td>2</td>\n",
       "      <td>1</td>\n",
       "    </tr>\n",
       "    <tr>\n",
       "      <th>3</th>\n",
       "      <td>56</td>\n",
       "      <td>1</td>\n",
       "      <td>1</td>\n",
       "      <td>120</td>\n",
       "      <td>236</td>\n",
       "      <td>0</td>\n",
       "      <td>1</td>\n",
       "      <td>178</td>\n",
       "      <td>0</td>\n",
       "      <td>0.8</td>\n",
       "      <td>2</td>\n",
       "      <td>0</td>\n",
       "      <td>2</td>\n",
       "      <td>1</td>\n",
       "    </tr>\n",
       "    <tr>\n",
       "      <th>4</th>\n",
       "      <td>57</td>\n",
       "      <td>0</td>\n",
       "      <td>0</td>\n",
       "      <td>120</td>\n",
       "      <td>354</td>\n",
       "      <td>0</td>\n",
       "      <td>1</td>\n",
       "      <td>163</td>\n",
       "      <td>1</td>\n",
       "      <td>0.6</td>\n",
       "      <td>2</td>\n",
       "      <td>0</td>\n",
       "      <td>2</td>\n",
       "      <td>1</td>\n",
       "    </tr>\n",
       "  </tbody>\n",
       "</table>\n",
       "</div>"
      ],
      "text/plain": [
       "   age  sex  cp  trtbps  chol  fbs  restecg  thalachh  exng  oldpeak  slp  \\\n",
       "0   63    1   3     145   233    1        0       150     0      2.3    0   \n",
       "1   37    1   2     130   250    0        1       187     0      3.5    0   \n",
       "2   41    0   1     130   204    0        0       172     0      1.4    2   \n",
       "3   56    1   1     120   236    0        1       178     0      0.8    2   \n",
       "4   57    0   0     120   354    0        1       163     1      0.6    2   \n",
       "\n",
       "   caa  thall  output  \n",
       "0    0      1       1  \n",
       "1    0      2       1  \n",
       "2    0      2       1  \n",
       "3    0      2       1  \n",
       "4    0      2       1  "
      ]
     },
     "execution_count": 259,
     "metadata": {},
     "output_type": "execute_result"
    }
   ],
   "source": [
    "# show the first five rows information\n",
    "data.head()"
   ]
  },
  {
   "cell_type": "code",
   "execution_count": 260,
   "id": "4f51cdfb",
   "metadata": {},
   "outputs": [
    {
     "data": {
      "text/html": [
       "<div>\n",
       "<style scoped>\n",
       "    .dataframe tbody tr th:only-of-type {\n",
       "        vertical-align: middle;\n",
       "    }\n",
       "\n",
       "    .dataframe tbody tr th {\n",
       "        vertical-align: top;\n",
       "    }\n",
       "\n",
       "    .dataframe thead th {\n",
       "        text-align: right;\n",
       "    }\n",
       "</style>\n",
       "<table border=\"1\" class=\"dataframe\">\n",
       "  <thead>\n",
       "    <tr style=\"text-align: right;\">\n",
       "      <th></th>\n",
       "      <th>age</th>\n",
       "      <th>sex</th>\n",
       "      <th>cp</th>\n",
       "      <th>trtbps</th>\n",
       "      <th>chol</th>\n",
       "      <th>fbs</th>\n",
       "      <th>restecg</th>\n",
       "      <th>thalachh</th>\n",
       "      <th>exng</th>\n",
       "      <th>oldpeak</th>\n",
       "      <th>slp</th>\n",
       "      <th>caa</th>\n",
       "      <th>thall</th>\n",
       "      <th>output</th>\n",
       "    </tr>\n",
       "  </thead>\n",
       "  <tbody>\n",
       "    <tr>\n",
       "      <th>298</th>\n",
       "      <td>57</td>\n",
       "      <td>0</td>\n",
       "      <td>0</td>\n",
       "      <td>140</td>\n",
       "      <td>241</td>\n",
       "      <td>0</td>\n",
       "      <td>1</td>\n",
       "      <td>123</td>\n",
       "      <td>1</td>\n",
       "      <td>0.2</td>\n",
       "      <td>1</td>\n",
       "      <td>0</td>\n",
       "      <td>3</td>\n",
       "      <td>0</td>\n",
       "    </tr>\n",
       "    <tr>\n",
       "      <th>299</th>\n",
       "      <td>45</td>\n",
       "      <td>1</td>\n",
       "      <td>3</td>\n",
       "      <td>110</td>\n",
       "      <td>264</td>\n",
       "      <td>0</td>\n",
       "      <td>1</td>\n",
       "      <td>132</td>\n",
       "      <td>0</td>\n",
       "      <td>1.2</td>\n",
       "      <td>1</td>\n",
       "      <td>0</td>\n",
       "      <td>3</td>\n",
       "      <td>0</td>\n",
       "    </tr>\n",
       "    <tr>\n",
       "      <th>300</th>\n",
       "      <td>68</td>\n",
       "      <td>1</td>\n",
       "      <td>0</td>\n",
       "      <td>144</td>\n",
       "      <td>193</td>\n",
       "      <td>1</td>\n",
       "      <td>1</td>\n",
       "      <td>141</td>\n",
       "      <td>0</td>\n",
       "      <td>3.4</td>\n",
       "      <td>1</td>\n",
       "      <td>2</td>\n",
       "      <td>3</td>\n",
       "      <td>0</td>\n",
       "    </tr>\n",
       "    <tr>\n",
       "      <th>301</th>\n",
       "      <td>57</td>\n",
       "      <td>1</td>\n",
       "      <td>0</td>\n",
       "      <td>130</td>\n",
       "      <td>131</td>\n",
       "      <td>0</td>\n",
       "      <td>1</td>\n",
       "      <td>115</td>\n",
       "      <td>1</td>\n",
       "      <td>1.2</td>\n",
       "      <td>1</td>\n",
       "      <td>1</td>\n",
       "      <td>3</td>\n",
       "      <td>0</td>\n",
       "    </tr>\n",
       "    <tr>\n",
       "      <th>302</th>\n",
       "      <td>57</td>\n",
       "      <td>0</td>\n",
       "      <td>1</td>\n",
       "      <td>130</td>\n",
       "      <td>236</td>\n",
       "      <td>0</td>\n",
       "      <td>0</td>\n",
       "      <td>174</td>\n",
       "      <td>0</td>\n",
       "      <td>0.0</td>\n",
       "      <td>1</td>\n",
       "      <td>1</td>\n",
       "      <td>2</td>\n",
       "      <td>0</td>\n",
       "    </tr>\n",
       "  </tbody>\n",
       "</table>\n",
       "</div>"
      ],
      "text/plain": [
       "     age  sex  cp  trtbps  chol  fbs  restecg  thalachh  exng  oldpeak  slp  \\\n",
       "298   57    0   0     140   241    0        1       123     1      0.2    1   \n",
       "299   45    1   3     110   264    0        1       132     0      1.2    1   \n",
       "300   68    1   0     144   193    1        1       141     0      3.4    1   \n",
       "301   57    1   0     130   131    0        1       115     1      1.2    1   \n",
       "302   57    0   1     130   236    0        0       174     0      0.0    1   \n",
       "\n",
       "     caa  thall  output  \n",
       "298    0      3       0  \n",
       "299    0      3       0  \n",
       "300    2      3       0  \n",
       "301    1      3       0  \n",
       "302    1      2       0  "
      ]
     },
     "execution_count": 260,
     "metadata": {},
     "output_type": "execute_result"
    }
   ],
   "source": [
    "# show the last five rows information\n",
    "data.tail()"
   ]
  },
  {
   "cell_type": "code",
   "execution_count": 261,
   "id": "0a9bd3f5",
   "metadata": {},
   "outputs": [
    {
     "data": {
      "text/html": [
       "<div>\n",
       "<style scoped>\n",
       "    .dataframe tbody tr th:only-of-type {\n",
       "        vertical-align: middle;\n",
       "    }\n",
       "\n",
       "    .dataframe tbody tr th {\n",
       "        vertical-align: top;\n",
       "    }\n",
       "\n",
       "    .dataframe thead th {\n",
       "        text-align: right;\n",
       "    }\n",
       "</style>\n",
       "<table border=\"1\" class=\"dataframe\">\n",
       "  <thead>\n",
       "    <tr style=\"text-align: right;\">\n",
       "      <th></th>\n",
       "      <th>age</th>\n",
       "      <th>sex</th>\n",
       "      <th>cp</th>\n",
       "      <th>trtbps</th>\n",
       "      <th>chol</th>\n",
       "      <th>fbs</th>\n",
       "      <th>restecg</th>\n",
       "      <th>thalachh</th>\n",
       "      <th>exng</th>\n",
       "      <th>oldpeak</th>\n",
       "      <th>slp</th>\n",
       "      <th>caa</th>\n",
       "      <th>thall</th>\n",
       "      <th>output</th>\n",
       "    </tr>\n",
       "  </thead>\n",
       "  <tbody>\n",
       "    <tr>\n",
       "      <th>0</th>\n",
       "      <td>63</td>\n",
       "      <td>1</td>\n",
       "      <td>3</td>\n",
       "      <td>145</td>\n",
       "      <td>233</td>\n",
       "      <td>1</td>\n",
       "      <td>0</td>\n",
       "      <td>150</td>\n",
       "      <td>0</td>\n",
       "      <td>2.3</td>\n",
       "      <td>0</td>\n",
       "      <td>0</td>\n",
       "      <td>1</td>\n",
       "      <td>1</td>\n",
       "    </tr>\n",
       "    <tr>\n",
       "      <th>1</th>\n",
       "      <td>37</td>\n",
       "      <td>1</td>\n",
       "      <td>2</td>\n",
       "      <td>130</td>\n",
       "      <td>250</td>\n",
       "      <td>0</td>\n",
       "      <td>1</td>\n",
       "      <td>187</td>\n",
       "      <td>0</td>\n",
       "      <td>3.5</td>\n",
       "      <td>0</td>\n",
       "      <td>0</td>\n",
       "      <td>2</td>\n",
       "      <td>1</td>\n",
       "    </tr>\n",
       "    <tr>\n",
       "      <th>2</th>\n",
       "      <td>41</td>\n",
       "      <td>0</td>\n",
       "      <td>1</td>\n",
       "      <td>130</td>\n",
       "      <td>204</td>\n",
       "      <td>0</td>\n",
       "      <td>0</td>\n",
       "      <td>172</td>\n",
       "      <td>0</td>\n",
       "      <td>1.4</td>\n",
       "      <td>2</td>\n",
       "      <td>0</td>\n",
       "      <td>2</td>\n",
       "      <td>1</td>\n",
       "    </tr>\n",
       "    <tr>\n",
       "      <th>3</th>\n",
       "      <td>56</td>\n",
       "      <td>1</td>\n",
       "      <td>1</td>\n",
       "      <td>120</td>\n",
       "      <td>236</td>\n",
       "      <td>0</td>\n",
       "      <td>1</td>\n",
       "      <td>178</td>\n",
       "      <td>0</td>\n",
       "      <td>0.8</td>\n",
       "      <td>2</td>\n",
       "      <td>0</td>\n",
       "      <td>2</td>\n",
       "      <td>1</td>\n",
       "    </tr>\n",
       "    <tr>\n",
       "      <th>4</th>\n",
       "      <td>57</td>\n",
       "      <td>0</td>\n",
       "      <td>0</td>\n",
       "      <td>120</td>\n",
       "      <td>354</td>\n",
       "      <td>0</td>\n",
       "      <td>1</td>\n",
       "      <td>163</td>\n",
       "      <td>1</td>\n",
       "      <td>0.6</td>\n",
       "      <td>2</td>\n",
       "      <td>0</td>\n",
       "      <td>2</td>\n",
       "      <td>1</td>\n",
       "    </tr>\n",
       "    <tr>\n",
       "      <th>...</th>\n",
       "      <td>...</td>\n",
       "      <td>...</td>\n",
       "      <td>...</td>\n",
       "      <td>...</td>\n",
       "      <td>...</td>\n",
       "      <td>...</td>\n",
       "      <td>...</td>\n",
       "      <td>...</td>\n",
       "      <td>...</td>\n",
       "      <td>...</td>\n",
       "      <td>...</td>\n",
       "      <td>...</td>\n",
       "      <td>...</td>\n",
       "      <td>...</td>\n",
       "    </tr>\n",
       "    <tr>\n",
       "      <th>298</th>\n",
       "      <td>57</td>\n",
       "      <td>0</td>\n",
       "      <td>0</td>\n",
       "      <td>140</td>\n",
       "      <td>241</td>\n",
       "      <td>0</td>\n",
       "      <td>1</td>\n",
       "      <td>123</td>\n",
       "      <td>1</td>\n",
       "      <td>0.2</td>\n",
       "      <td>1</td>\n",
       "      <td>0</td>\n",
       "      <td>3</td>\n",
       "      <td>0</td>\n",
       "    </tr>\n",
       "    <tr>\n",
       "      <th>299</th>\n",
       "      <td>45</td>\n",
       "      <td>1</td>\n",
       "      <td>3</td>\n",
       "      <td>110</td>\n",
       "      <td>264</td>\n",
       "      <td>0</td>\n",
       "      <td>1</td>\n",
       "      <td>132</td>\n",
       "      <td>0</td>\n",
       "      <td>1.2</td>\n",
       "      <td>1</td>\n",
       "      <td>0</td>\n",
       "      <td>3</td>\n",
       "      <td>0</td>\n",
       "    </tr>\n",
       "    <tr>\n",
       "      <th>300</th>\n",
       "      <td>68</td>\n",
       "      <td>1</td>\n",
       "      <td>0</td>\n",
       "      <td>144</td>\n",
       "      <td>193</td>\n",
       "      <td>1</td>\n",
       "      <td>1</td>\n",
       "      <td>141</td>\n",
       "      <td>0</td>\n",
       "      <td>3.4</td>\n",
       "      <td>1</td>\n",
       "      <td>2</td>\n",
       "      <td>3</td>\n",
       "      <td>0</td>\n",
       "    </tr>\n",
       "    <tr>\n",
       "      <th>301</th>\n",
       "      <td>57</td>\n",
       "      <td>1</td>\n",
       "      <td>0</td>\n",
       "      <td>130</td>\n",
       "      <td>131</td>\n",
       "      <td>0</td>\n",
       "      <td>1</td>\n",
       "      <td>115</td>\n",
       "      <td>1</td>\n",
       "      <td>1.2</td>\n",
       "      <td>1</td>\n",
       "      <td>1</td>\n",
       "      <td>3</td>\n",
       "      <td>0</td>\n",
       "    </tr>\n",
       "    <tr>\n",
       "      <th>302</th>\n",
       "      <td>57</td>\n",
       "      <td>0</td>\n",
       "      <td>1</td>\n",
       "      <td>130</td>\n",
       "      <td>236</td>\n",
       "      <td>0</td>\n",
       "      <td>0</td>\n",
       "      <td>174</td>\n",
       "      <td>0</td>\n",
       "      <td>0.0</td>\n",
       "      <td>1</td>\n",
       "      <td>1</td>\n",
       "      <td>2</td>\n",
       "      <td>0</td>\n",
       "    </tr>\n",
       "  </tbody>\n",
       "</table>\n",
       "<p>303 rows × 14 columns</p>\n",
       "</div>"
      ],
      "text/plain": [
       "     age  sex  cp  trtbps  chol  fbs  restecg  thalachh  exng  oldpeak  slp  \\\n",
       "0     63    1   3     145   233    1        0       150     0      2.3    0   \n",
       "1     37    1   2     130   250    0        1       187     0      3.5    0   \n",
       "2     41    0   1     130   204    0        0       172     0      1.4    2   \n",
       "3     56    1   1     120   236    0        1       178     0      0.8    2   \n",
       "4     57    0   0     120   354    0        1       163     1      0.6    2   \n",
       "..   ...  ...  ..     ...   ...  ...      ...       ...   ...      ...  ...   \n",
       "298   57    0   0     140   241    0        1       123     1      0.2    1   \n",
       "299   45    1   3     110   264    0        1       132     0      1.2    1   \n",
       "300   68    1   0     144   193    1        1       141     0      3.4    1   \n",
       "301   57    1   0     130   131    0        1       115     1      1.2    1   \n",
       "302   57    0   1     130   236    0        0       174     0      0.0    1   \n",
       "\n",
       "     caa  thall  output  \n",
       "0      0      1       1  \n",
       "1      0      2       1  \n",
       "2      0      2       1  \n",
       "3      0      2       1  \n",
       "4      0      2       1  \n",
       "..   ...    ...     ...  \n",
       "298    0      3       0  \n",
       "299    0      3       0  \n",
       "300    2      3       0  \n",
       "301    1      3       0  \n",
       "302    1      2       0  \n",
       "\n",
       "[303 rows x 14 columns]"
      ]
     },
     "execution_count": 261,
     "metadata": {},
     "output_type": "execute_result"
    }
   ],
   "source": [
    "# show the dataset information\n",
    "data"
   ]
  },
  {
   "cell_type": "code",
   "execution_count": 262,
   "id": "f24ce272",
   "metadata": {},
   "outputs": [
    {
     "name": "stdout",
     "output_type": "stream",
     "text": [
      "1    165\n",
      "0    138\n",
      "Name: output, dtype: int64\n",
      "1 --> Heart Disease, 0 --> No Heart Disease\n"
     ]
    },
    {
     "data": {
      "text/plain": [
       "<AxesSubplot:>"
      ]
     },
     "execution_count": 262,
     "metadata": {},
     "output_type": "execute_result"
    },
    {
     "data": {
      "image/png": "[encoded data removed]",
      "text/plain": [
       "<Figure size 432x288 with 1 Axes>"
      ]
     },
     "metadata": {
      "needs_background": "light"
     },
     "output_type": "display_data"
    }
   ],
   "source": [
    "print(data.output.value_counts())\n",
    "print(\"1 --> Heart Disease, 0 --> No Heart Disease\")\n",
    "# lets visualize the Output variable\n",
    "data.output.value_counts().plot(kind=\"bar\",color=[\"salmon\",\"lightblue\"])"
   ]
  },
  {
   "cell_type": "code",
   "execution_count": 263,
   "id": "805b26d4",
   "metadata": {},
   "outputs": [
    {
     "name": "stdout",
     "output_type": "stream",
     "text": [
      "<class 'pandas.core.frame.DataFrame'>\n",
      "RangeIndex: 303 entries, 0 to 302\n",
      "Data columns (total 14 columns):\n",
      " #   Column    Non-Null Count  Dtype  \n",
      "---  ------    --------------  -----  \n",
      " 0   age       303 non-null    int64  \n",
      " 1   sex       303 non-null    int64  \n",
      " 2   cp        303 non-null    int64  \n",
      " 3   trtbps    303 non-null    int64  \n",
      " 4   chol      303 non-null    int64  \n",
      " 5   fbs       303 non-null    int64  \n",
      " 6   restecg   303 non-null    int64  \n",
      " 7   thalachh  303 non-null    int64  \n",
      " 8   exng      303 non-null    int64  \n",
      " 9   oldpeak   303 non-null    float64\n",
      " 10  slp       303 non-null    int64  \n",
      " 11  caa       303 non-null    int64  \n",
      " 12  thall     303 non-null    int64  \n",
      " 13  output    303 non-null    int64  \n",
      "dtypes: float64(1), int64(13)\n",
      "memory usage: 33.3 KB\n"
     ]
    }
   ],
   "source": [
    "#dataset info showing\n",
    "data.info()"
   ]
  },
  {
   "cell_type": "code",
   "execution_count": 264,
   "id": "2f588251",
   "metadata": {},
   "outputs": [
    {
     "data": {
      "text/html": [
       "<div>\n",
       "<style scoped>\n",
       "    .dataframe tbody tr th:only-of-type {\n",
       "        vertical-align: middle;\n",
       "    }\n",
       "\n",
       "    .dataframe tbody tr th {\n",
       "        vertical-align: top;\n",
       "    }\n",
       "\n",
       "    .dataframe thead th {\n",
       "        text-align: right;\n",
       "    }\n",
       "</style>\n",
       "<table border=\"1\" class=\"dataframe\">\n",
       "  <thead>\n",
       "    <tr style=\"text-align: right;\">\n",
       "      <th></th>\n",
       "      <th>age</th>\n",
       "      <th>sex</th>\n",
       "      <th>cp</th>\n",
       "      <th>trtbps</th>\n",
       "      <th>chol</th>\n",
       "      <th>fbs</th>\n",
       "      <th>restecg</th>\n",
       "      <th>thalachh</th>\n",
       "      <th>exng</th>\n",
       "      <th>oldpeak</th>\n",
       "      <th>slp</th>\n",
       "      <th>caa</th>\n",
       "      <th>thall</th>\n",
       "      <th>output</th>\n",
       "    </tr>\n",
       "  </thead>\n",
       "  <tbody>\n",
       "    <tr>\n",
       "      <th>count</th>\n",
       "      <td>303.000000</td>\n",
       "      <td>303.000000</td>\n",
       "      <td>303.000000</td>\n",
       "      <td>303.000000</td>\n",
       "      <td>303.000000</td>\n",
       "      <td>303.000000</td>\n",
       "      <td>303.000000</td>\n",
       "      <td>303.000000</td>\n",
       "      <td>303.000000</td>\n",
       "      <td>303.000000</td>\n",
       "      <td>303.000000</td>\n",
       "      <td>303.000000</td>\n",
       "      <td>303.000000</td>\n",
       "      <td>303.000000</td>\n",
       "    </tr>\n",
       "    <tr>\n",
       "      <th>mean</th>\n",
       "      <td>54.366337</td>\n",
       "      <td>0.683168</td>\n",
       "      <td>0.966997</td>\n",
       "      <td>131.623762</td>\n",
       "      <td>246.264026</td>\n",
       "      <td>0.148515</td>\n",
       "      <td>0.528053</td>\n",
       "      <td>149.646865</td>\n",
       "      <td>0.326733</td>\n",
       "      <td>1.039604</td>\n",
       "      <td>1.399340</td>\n",
       "      <td>0.729373</td>\n",
       "      <td>2.313531</td>\n",
       "      <td>0.544554</td>\n",
       "    </tr>\n",
       "    <tr>\n",
       "      <th>std</th>\n",
       "      <td>9.082101</td>\n",
       "      <td>0.466011</td>\n",
       "      <td>1.032052</td>\n",
       "      <td>17.538143</td>\n",
       "      <td>51.830751</td>\n",
       "      <td>0.356198</td>\n",
       "      <td>0.525860</td>\n",
       "      <td>22.905161</td>\n",
       "      <td>0.469794</td>\n",
       "      <td>1.161075</td>\n",
       "      <td>0.616226</td>\n",
       "      <td>1.022606</td>\n",
       "      <td>0.612277</td>\n",
       "      <td>0.498835</td>\n",
       "    </tr>\n",
       "    <tr>\n",
       "      <th>min</th>\n",
       "      <td>29.000000</td>\n",
       "      <td>0.000000</td>\n",
       "      <td>0.000000</td>\n",
       "      <td>94.000000</td>\n",
       "      <td>126.000000</td>\n",
       "      <td>0.000000</td>\n",
       "      <td>0.000000</td>\n",
       "      <td>71.000000</td>\n",
       "      <td>0.000000</td>\n",
       "      <td>0.000000</td>\n",
       "      <td>0.000000</td>\n",
       "      <td>0.000000</td>\n",
       "      <td>0.000000</td>\n",
       "      <td>0.000000</td>\n",
       "    </tr>\n",
       "    <tr>\n",
       "      <th>25%</th>\n",
       "      <td>47.500000</td>\n",
       "      <td>0.000000</td>\n",
       "      <td>0.000000</td>\n",
       "      <td>120.000000</td>\n",
       "      <td>211.000000</td>\n",
       "      <td>0.000000</td>\n",
       "      <td>0.000000</td>\n",
       "      <td>133.500000</td>\n",
       "      <td>0.000000</td>\n",
       "      <td>0.000000</td>\n",
       "      <td>1.000000</td>\n",
       "      <td>0.000000</td>\n",
       "      <td>2.000000</td>\n",
       "      <td>0.000000</td>\n",
       "    </tr>\n",
       "    <tr>\n",
       "      <th>50%</th>\n",
       "      <td>55.000000</td>\n",
       "      <td>1.000000</td>\n",
       "      <td>1.000000</td>\n",
       "      <td>130.000000</td>\n",
       "      <td>240.000000</td>\n",
       "      <td>0.000000</td>\n",
       "      <td>1.000000</td>\n",
       "      <td>153.000000</td>\n",
       "      <td>0.000000</td>\n",
       "      <td>0.800000</td>\n",
       "      <td>1.000000</td>\n",
       "      <td>0.000000</td>\n",
       "      <td>2.000000</td>\n",
       "      <td>1.000000</td>\n",
       "    </tr>\n",
       "    <tr>\n",
       "      <th>75%</th>\n",
       "      <td>61.000000</td>\n",
       "      <td>1.000000</td>\n",
       "      <td>2.000000</td>\n",
       "      <td>140.000000</td>\n",
       "      <td>274.500000</td>\n",
       "      <td>0.000000</td>\n",
       "      <td>1.000000</td>\n",
       "      <td>166.000000</td>\n",
       "      <td>1.000000</td>\n",
       "      <td>1.600000</td>\n",
       "      <td>2.000000</td>\n",
       "      <td>1.000000</td>\n",
       "      <td>3.000000</td>\n",
       "      <td>1.000000</td>\n",
       "    </tr>\n",
       "    <tr>\n",
       "      <th>max</th>\n",
       "      <td>77.000000</td>\n",
       "      <td>1.000000</td>\n",
       "      <td>3.000000</td>\n",
       "      <td>200.000000</td>\n",
       "      <td>564.000000</td>\n",
       "      <td>1.000000</td>\n",
       "      <td>2.000000</td>\n",
       "      <td>202.000000</td>\n",
       "      <td>1.000000</td>\n",
       "      <td>6.200000</td>\n",
       "      <td>2.000000</td>\n",
       "      <td>4.000000</td>\n",
       "      <td>3.000000</td>\n",
       "      <td>1.000000</td>\n",
       "    </tr>\n",
       "  </tbody>\n",
       "</table>\n",
       "</div>"
      ],
      "text/plain": [
       "              age         sex          cp      trtbps        chol         fbs  \\\n",
       "count  303.000000  303.000000  303.000000  303.000000  303.000000  303.000000   \n",
       "mean    54.366337    0.683168    0.966997  131.623762  246.264026    0.148515   \n",
       "std      9.082101    0.466011    1.032052   17.538143   51.830751    0.356198   \n",
       "min     29.000000    0.000000    0.000000   94.000000  126.000000    0.000000   \n",
       "25%     47.500000    0.000000    0.000000  120.000000  211.000000    0.000000   \n",
       "50%     55.000000    1.000000    1.000000  130.000000  240.000000    0.000000   \n",
       "75%     61.000000    1.000000    2.000000  140.000000  274.500000    0.000000   \n",
       "max     77.000000    1.000000    3.000000  200.000000  564.000000    1.000000   \n",
       "\n",
       "          restecg    thalachh        exng     oldpeak         slp         caa  \\\n",
       "count  303.000000  303.000000  303.000000  303.000000  303.000000  303.000000   \n",
       "mean     0.528053  149.646865    0.326733    1.039604    1.399340    0.729373   \n",
       "std      0.525860   22.905161    0.469794    1.161075    0.616226    1.022606   \n",
       "min      0.000000   71.000000    0.000000    0.000000    0.000000    0.000000   \n",
       "25%      0.000000  133.500000    0.000000    0.000000    1.000000    0.000000   \n",
       "50%      1.000000  153.000000    0.000000    0.800000    1.000000    0.000000   \n",
       "75%      1.000000  166.000000    1.000000    1.600000    2.000000    1.000000   \n",
       "max      2.000000  202.000000    1.000000    6.200000    2.000000    4.000000   \n",
       "\n",
       "            thall      output  \n",
       "count  303.000000  303.000000  \n",
       "mean     2.313531    0.544554  \n",
       "std      0.612277    0.498835  \n",
       "min      0.000000    0.000000  \n",
       "25%      2.000000    0.000000  \n",
       "50%      2.000000    1.000000  \n",
       "75%      3.000000    1.000000  \n",
       "max      3.000000    1.000000  "
      ]
     },
     "execution_count": 264,
     "metadata": {},
     "output_type": "execute_result"
    }
   ],
   "source": [
    "#Summary statistics of the Series or Dataframe provided.\n",
    "data.describe()"
   ]
  },
  {
   "cell_type": "code",
   "execution_count": 265,
   "id": "39637d95",
   "metadata": {},
   "outputs": [
    {
     "data": {
      "text/plain": [
       "age         0\n",
       "sex         0\n",
       "cp          0\n",
       "trtbps      0\n",
       "chol        0\n",
       "fbs         0\n",
       "restecg     0\n",
       "thalachh    0\n",
       "exng        0\n",
       "oldpeak     0\n",
       "slp         0\n",
       "caa         0\n",
       "thall       0\n",
       "output      0\n",
       "dtype: int64"
      ]
     },
     "execution_count": 265,
     "metadata": {},
     "output_type": "execute_result"
    }
   ],
   "source": [
    "# findout null value\n",
    "data.isnull().sum()"
   ]
  },
  {
   "cell_type": "markdown",
   "id": "6fc42a3d",
   "metadata": {},
   "source": [
    "# Heart disease frequency acc to sex"
   ]
  },
  {
   "cell_type": "code",
   "execution_count": 266,
   "id": "b2cec0fe",
   "metadata": {},
   "outputs": [
    {
     "data": {
      "text/plain": [
       "1    207\n",
       "0     96\n",
       "Name: sex, dtype: int64"
      ]
     },
     "execution_count": 266,
     "metadata": {},
     "output_type": "execute_result"
    }
   ],
   "source": [
    "data.sex.value_counts() # 1=male, 0=female"
   ]
  },
  {
   "cell_type": "code",
   "execution_count": 267,
   "id": "86b761c9",
   "metadata": {},
   "outputs": [
    {
     "name": "stdout",
     "output_type": "stream",
     "text": [
      "207 males and 96 females\n",
      "1 --> Heart Disease - 165, 0 --> No Heart Disease - 138\n"
     ]
    },
    {
     "data": {
      "text/html": [
       "<div>\n",
       "<style scoped>\n",
       "    .dataframe tbody tr th:only-of-type {\n",
       "        vertical-align: middle;\n",
       "    }\n",
       "\n",
       "    .dataframe tbody tr th {\n",
       "        vertical-align: top;\n",
       "    }\n",
       "\n",
       "    .dataframe thead th {\n",
       "        text-align: right;\n",
       "    }\n",
       "</style>\n",
       "<table border=\"1\" class=\"dataframe\">\n",
       "  <thead>\n",
       "    <tr style=\"text-align: right;\">\n",
       "      <th>sex</th>\n",
       "      <th>0</th>\n",
       "      <th>1</th>\n",
       "    </tr>\n",
       "    <tr>\n",
       "      <th>output</th>\n",
       "      <th></th>\n",
       "      <th></th>\n",
       "    </tr>\n",
       "  </thead>\n",
       "  <tbody>\n",
       "    <tr>\n",
       "      <th>0</th>\n",
       "      <td>24</td>\n",
       "      <td>114</td>\n",
       "    </tr>\n",
       "    <tr>\n",
       "      <th>1</th>\n",
       "      <td>72</td>\n",
       "      <td>93</td>\n",
       "    </tr>\n",
       "  </tbody>\n",
       "</table>\n",
       "</div>"
      ],
      "text/plain": [
       "sex      0    1\n",
       "output         \n",
       "0       24  114\n",
       "1       72   93"
      ]
     },
     "execution_count": 267,
     "metadata": {},
     "output_type": "execute_result"
    }
   ],
   "source": [
    "print(\"207 males and 96 females\")\n",
    "print(\"1 --> Heart Disease - 165, 0 --> No Heart Disease - 138\")\n",
    "#Compare output column to sex column\n",
    "pd.crosstab(data.output,data.sex)"
   ]
  },
  {
   "cell_type": "code",
   "execution_count": 268,
   "id": "1eb54aeb",
   "metadata": {},
   "outputs": [
    {
     "data": {
      "image/png": "[encoded data removed]",
      "text/plain": [
       "<Figure size 432x288 with 1 Axes>"
      ]
     },
     "metadata": {
      "needs_background": "light"
     },
     "output_type": "display_data"
    }
   ],
   "source": [
    "#plotting it for better understanding\n",
    "pd.crosstab(data.output, data.sex).plot(kind=\"bar\",color = [\"salmon\",\"lightblue\"])\n",
    "plt.title(\"Distribution A/C to Output and Sex\")\n",
    "plt.xlabel(\"0= No Disease, 1= Disease\")\n",
    "plt.ylabel(\"Amount\")\n",
    "plt.legend([\"Female\", \"Male\"])\n",
    "plt.xticks(rotation=0);"
   ]
  },
  {
   "cell_type": "markdown",
   "id": "09a6871a",
   "metadata": {},
   "source": [
    "# Heart disease frequency acc to age"
   ]
  },
  {
   "cell_type": "code",
   "execution_count": 269,
   "id": "d7fb90db",
   "metadata": {},
   "outputs": [
    {
     "data": {
      "text/plain": [
       "58    19\n",
       "57    17\n",
       "54    16\n",
       "59    14\n",
       "52    13\n",
       "51    12\n",
       "62    11\n",
       "60    11\n",
       "44    11\n",
       "56    11\n",
       "41    10\n",
       "64    10\n",
       "63     9\n",
       "67     9\n",
       "65     8\n",
       "55     8\n",
       "61     8\n",
       "53     8\n",
       "45     8\n",
       "43     8\n",
       "42     8\n",
       "50     7\n",
       "66     7\n",
       "48     7\n",
       "46     7\n",
       "49     5\n",
       "47     5\n",
       "70     4\n",
       "39     4\n",
       "68     4\n",
       "35     4\n",
       "69     3\n",
       "40     3\n",
       "38     3\n",
       "71     3\n",
       "37     2\n",
       "34     2\n",
       "76     1\n",
       "29     1\n",
       "74     1\n",
       "77     1\n",
       "Name: age, dtype: int64"
      ]
     },
     "execution_count": 269,
     "metadata": {},
     "output_type": "execute_result"
    }
   ],
   "source": [
    "data.age.value_counts() # 1=male, 0=female"
   ]
  },
  {
   "cell_type": "code",
   "execution_count": 270,
   "id": "f1418d8b",
   "metadata": {},
   "outputs": [
    {
     "data": {
      "image/png": "[encoded data removed]",
      "text/plain": [
       "<Figure size 2160x720 with 1 Axes>"
      ]
     },
     "metadata": {
      "needs_background": "light"
     },
     "output_type": "display_data"
    }
   ],
   "source": [
    "#Heart Disease Frequency for Ages plotting\n",
    "pd.crosstab(data.age,data.output).plot(kind=\"bar\",figsize=(30,10),color=['gold','brown' ])\n",
    "plt.title('Heart Disease Frequency for Ages')\n",
    "plt.xlabel('Age')\n",
    "plt.ylabel('Frequency')\n",
    "plt.show()\n"
   ]
  },
  {
   "cell_type": "code",
   "execution_count": 271,
   "id": "27e21357",
   "metadata": {},
   "outputs": [
    {
     "data": {
      "text/plain": [
       "<AxesSubplot:ylabel='Frequency'>"
      ]
     },
     "execution_count": 271,
     "metadata": {},
     "output_type": "execute_result"
    },
    {
     "data": {
      "image/png": "[encoded data removed]",
      "text/plain": [
       "<Figure size 432x288 with 1 Axes>"
      ]
     },
     "metadata": {
      "needs_background": "light"
     },
     "output_type": "display_data"
    }
   ],
   "source": [
    "# plotting for age distribution\n",
    "data.age.plot.hist()"
   ]
  },
  {
   "cell_type": "markdown",
   "id": "229ef708",
   "metadata": {},
   "source": [
    "# 3. Prepare data for ML  application"
   ]
  },
  {
   "cell_type": "markdown",
   "id": "bbf4a97e",
   "metadata": {},
   "source": [
    "Analyse the data so that it is in a format that the Machine Learning model can comprehend."
   ]
  },
  {
   "cell_type": "code",
   "execution_count": 272,
   "id": "28ea82db",
   "metadata": {},
   "outputs": [],
   "source": [
    "from sklearn.preprocessing import StandardScaler,MinMaxScaler #forScaling Preprocessing"
   ]
  },
  {
   "cell_type": "code",
   "execution_count": 273,
   "id": "3e3af287",
   "metadata": {},
   "outputs": [
    {
     "data": {
      "text/plain": [
       "{'age': 41,\n",
       " 'sex': 2,\n",
       " 'cp': 4,\n",
       " 'trtbps': 49,\n",
       " 'chol': 152,\n",
       " 'fbs': 2,\n",
       " 'restecg': 3,\n",
       " 'thalachh': 91,\n",
       " 'exng': 2,\n",
       " 'oldpeak': 40,\n",
       " 'slp': 3,\n",
       " 'caa': 5,\n",
       " 'thall': 4,\n",
       " 'output': 2}"
      ]
     },
     "execution_count": 273,
     "metadata": {},
     "output_type": "execute_result"
    }
   ],
   "source": [
    "{column: len(data[column].unique()) for column in data.columns}"
   ]
  },
  {
   "cell_type": "code",
   "execution_count": 274,
   "id": "fb537bf9",
   "metadata": {},
   "outputs": [],
   "source": [
    "def onehotencode(df,column_dict):\n",
    "    df=df.copy()\n",
    "    for column, prefix in column_dict.items():\n",
    "        dummies = pd.get_dummies(df[column], prefix=prefix)\n",
    "        df = pd.concat([df, dummies], axis=1)\n",
    "        df = df.drop(column, axis=1)\n",
    "    return df"
   ]
  },
  {
   "cell_type": "code",
   "execution_count": 275,
   "id": "eb02b708",
   "metadata": {},
   "outputs": [],
   "source": [
    "def preprocessing(data,scaler):\n",
    "    data=data.copy()\n",
    "    \n",
    "    nominal_features = ['cp', 'slp', 'thall','restecg']\n",
    "    \n",
    "    \n",
    "    \n",
    "    #One-hot encode the nominal features\n",
    "    data = onehotencode(data, dict(zip(nominal_features, ['CP', 'SL', 'TH','RECG'])))\n",
    "    \n",
    "    \n",
    "    # Split df into X and y\n",
    "    y = data['output'].copy()\n",
    "    X = data.drop('output', axis=1).copy()\n",
    "    \n",
    "    #Scale X\n",
    "    X = pd.DataFrame(scaler.fit_transform(X), columns=X.columns)\n",
    "    return X,y"
   ]
  },
  {
   "cell_type": "code",
   "execution_count": 276,
   "id": "5e93f6ff",
   "metadata": {},
   "outputs": [],
   "source": [
    "X, y = preprocessing(data,StandardScaler())"
   ]
  },
  {
   "cell_type": "code",
   "execution_count": 277,
   "id": "ae2f5877",
   "metadata": {},
   "outputs": [
    {
     "data": {
      "text/html": [
       "<div>\n",
       "<style scoped>\n",
       "    .dataframe tbody tr th:only-of-type {\n",
       "        vertical-align: middle;\n",
       "    }\n",
       "\n",
       "    .dataframe tbody tr th {\n",
       "        vertical-align: top;\n",
       "    }\n",
       "\n",
       "    .dataframe thead th {\n",
       "        text-align: right;\n",
       "    }\n",
       "</style>\n",
       "<table border=\"1\" class=\"dataframe\">\n",
       "  <thead>\n",
       "    <tr style=\"text-align: right;\">\n",
       "      <th></th>\n",
       "      <th>age</th>\n",
       "      <th>sex</th>\n",
       "      <th>trtbps</th>\n",
       "      <th>chol</th>\n",
       "      <th>fbs</th>\n",
       "      <th>thalachh</th>\n",
       "      <th>exng</th>\n",
       "      <th>oldpeak</th>\n",
       "      <th>caa</th>\n",
       "      <th>CP_0</th>\n",
       "      <th>...</th>\n",
       "      <th>SL_0</th>\n",
       "      <th>SL_1</th>\n",
       "      <th>SL_2</th>\n",
       "      <th>TH_0</th>\n",
       "      <th>TH_1</th>\n",
       "      <th>TH_2</th>\n",
       "      <th>TH_3</th>\n",
       "      <th>RECG_0</th>\n",
       "      <th>RECG_1</th>\n",
       "      <th>RECG_2</th>\n",
       "    </tr>\n",
       "  </thead>\n",
       "  <tbody>\n",
       "    <tr>\n",
       "      <th>0</th>\n",
       "      <td>0.952197</td>\n",
       "      <td>0.681005</td>\n",
       "      <td>0.763956</td>\n",
       "      <td>-0.256334</td>\n",
       "      <td>2.394438</td>\n",
       "      <td>0.015443</td>\n",
       "      <td>-0.696631</td>\n",
       "      <td>1.087338</td>\n",
       "      <td>-0.714429</td>\n",
       "      <td>-0.945384</td>\n",
       "      <td>...</td>\n",
       "      <td>3.664502</td>\n",
       "      <td>-0.926766</td>\n",
       "      <td>-0.939142</td>\n",
       "      <td>-0.081514</td>\n",
       "      <td>3.979112</td>\n",
       "      <td>-1.100763</td>\n",
       "      <td>-0.793116</td>\n",
       "      <td>1.030158</td>\n",
       "      <td>-1.003306</td>\n",
       "      <td>-0.115663</td>\n",
       "    </tr>\n",
       "    <tr>\n",
       "      <th>1</th>\n",
       "      <td>-1.915313</td>\n",
       "      <td>0.681005</td>\n",
       "      <td>-0.092738</td>\n",
       "      <td>0.072199</td>\n",
       "      <td>-0.417635</td>\n",
       "      <td>1.633471</td>\n",
       "      <td>-0.696631</td>\n",
       "      <td>2.122573</td>\n",
       "      <td>-0.714429</td>\n",
       "      <td>-0.945384</td>\n",
       "      <td>...</td>\n",
       "      <td>3.664502</td>\n",
       "      <td>-0.926766</td>\n",
       "      <td>-0.939142</td>\n",
       "      <td>-0.081514</td>\n",
       "      <td>-0.251312</td>\n",
       "      <td>0.908461</td>\n",
       "      <td>-0.793116</td>\n",
       "      <td>-0.970725</td>\n",
       "      <td>0.996705</td>\n",
       "      <td>-0.115663</td>\n",
       "    </tr>\n",
       "    <tr>\n",
       "      <th>2</th>\n",
       "      <td>-1.474158</td>\n",
       "      <td>-1.468418</td>\n",
       "      <td>-0.092738</td>\n",
       "      <td>-0.816773</td>\n",
       "      <td>-0.417635</td>\n",
       "      <td>0.977514</td>\n",
       "      <td>-0.696631</td>\n",
       "      <td>0.310912</td>\n",
       "      <td>-0.714429</td>\n",
       "      <td>-0.945384</td>\n",
       "      <td>...</td>\n",
       "      <td>-0.272888</td>\n",
       "      <td>-0.926766</td>\n",
       "      <td>1.064802</td>\n",
       "      <td>-0.081514</td>\n",
       "      <td>-0.251312</td>\n",
       "      <td>0.908461</td>\n",
       "      <td>-0.793116</td>\n",
       "      <td>1.030158</td>\n",
       "      <td>-1.003306</td>\n",
       "      <td>-0.115663</td>\n",
       "    </tr>\n",
       "    <tr>\n",
       "      <th>3</th>\n",
       "      <td>0.180175</td>\n",
       "      <td>0.681005</td>\n",
       "      <td>-0.663867</td>\n",
       "      <td>-0.198357</td>\n",
       "      <td>-0.417635</td>\n",
       "      <td>1.239897</td>\n",
       "      <td>-0.696631</td>\n",
       "      <td>-0.206705</td>\n",
       "      <td>-0.714429</td>\n",
       "      <td>-0.945384</td>\n",
       "      <td>...</td>\n",
       "      <td>-0.272888</td>\n",
       "      <td>-0.926766</td>\n",
       "      <td>1.064802</td>\n",
       "      <td>-0.081514</td>\n",
       "      <td>-0.251312</td>\n",
       "      <td>0.908461</td>\n",
       "      <td>-0.793116</td>\n",
       "      <td>-0.970725</td>\n",
       "      <td>0.996705</td>\n",
       "      <td>-0.115663</td>\n",
       "    </tr>\n",
       "    <tr>\n",
       "      <th>4</th>\n",
       "      <td>0.290464</td>\n",
       "      <td>-1.468418</td>\n",
       "      <td>-0.663867</td>\n",
       "      <td>2.082050</td>\n",
       "      <td>-0.417635</td>\n",
       "      <td>0.583939</td>\n",
       "      <td>1.435481</td>\n",
       "      <td>-0.379244</td>\n",
       "      <td>-0.714429</td>\n",
       "      <td>1.057772</td>\n",
       "      <td>...</td>\n",
       "      <td>-0.272888</td>\n",
       "      <td>-0.926766</td>\n",
       "      <td>1.064802</td>\n",
       "      <td>-0.081514</td>\n",
       "      <td>-0.251312</td>\n",
       "      <td>0.908461</td>\n",
       "      <td>-0.793116</td>\n",
       "      <td>-0.970725</td>\n",
       "      <td>0.996705</td>\n",
       "      <td>-0.115663</td>\n",
       "    </tr>\n",
       "    <tr>\n",
       "      <th>...</th>\n",
       "      <td>...</td>\n",
       "      <td>...</td>\n",
       "      <td>...</td>\n",
       "      <td>...</td>\n",
       "      <td>...</td>\n",
       "      <td>...</td>\n",
       "      <td>...</td>\n",
       "      <td>...</td>\n",
       "      <td>...</td>\n",
       "      <td>...</td>\n",
       "      <td>...</td>\n",
       "      <td>...</td>\n",
       "      <td>...</td>\n",
       "      <td>...</td>\n",
       "      <td>...</td>\n",
       "      <td>...</td>\n",
       "      <td>...</td>\n",
       "      <td>...</td>\n",
       "      <td>...</td>\n",
       "      <td>...</td>\n",
       "      <td>...</td>\n",
       "    </tr>\n",
       "    <tr>\n",
       "      <th>298</th>\n",
       "      <td>0.290464</td>\n",
       "      <td>-1.468418</td>\n",
       "      <td>0.478391</td>\n",
       "      <td>-0.101730</td>\n",
       "      <td>-0.417635</td>\n",
       "      <td>-1.165281</td>\n",
       "      <td>1.435481</td>\n",
       "      <td>-0.724323</td>\n",
       "      <td>-0.714429</td>\n",
       "      <td>1.057772</td>\n",
       "      <td>...</td>\n",
       "      <td>-0.272888</td>\n",
       "      <td>1.079021</td>\n",
       "      <td>-0.939142</td>\n",
       "      <td>-0.081514</td>\n",
       "      <td>-0.251312</td>\n",
       "      <td>-1.100763</td>\n",
       "      <td>1.260850</td>\n",
       "      <td>-0.970725</td>\n",
       "      <td>0.996705</td>\n",
       "      <td>-0.115663</td>\n",
       "    </tr>\n",
       "    <tr>\n",
       "      <th>299</th>\n",
       "      <td>-1.033002</td>\n",
       "      <td>0.681005</td>\n",
       "      <td>-1.234996</td>\n",
       "      <td>0.342756</td>\n",
       "      <td>-0.417635</td>\n",
       "      <td>-0.771706</td>\n",
       "      <td>-0.696631</td>\n",
       "      <td>0.138373</td>\n",
       "      <td>-0.714429</td>\n",
       "      <td>-0.945384</td>\n",
       "      <td>...</td>\n",
       "      <td>-0.272888</td>\n",
       "      <td>1.079021</td>\n",
       "      <td>-0.939142</td>\n",
       "      <td>-0.081514</td>\n",
       "      <td>-0.251312</td>\n",
       "      <td>-1.100763</td>\n",
       "      <td>1.260850</td>\n",
       "      <td>-0.970725</td>\n",
       "      <td>0.996705</td>\n",
       "      <td>-0.115663</td>\n",
       "    </tr>\n",
       "    <tr>\n",
       "      <th>300</th>\n",
       "      <td>1.503641</td>\n",
       "      <td>0.681005</td>\n",
       "      <td>0.706843</td>\n",
       "      <td>-1.029353</td>\n",
       "      <td>2.394438</td>\n",
       "      <td>-0.378132</td>\n",
       "      <td>-0.696631</td>\n",
       "      <td>2.036303</td>\n",
       "      <td>1.244593</td>\n",
       "      <td>1.057772</td>\n",
       "      <td>...</td>\n",
       "      <td>-0.272888</td>\n",
       "      <td>1.079021</td>\n",
       "      <td>-0.939142</td>\n",
       "      <td>-0.081514</td>\n",
       "      <td>-0.251312</td>\n",
       "      <td>-1.100763</td>\n",
       "      <td>1.260850</td>\n",
       "      <td>-0.970725</td>\n",
       "      <td>0.996705</td>\n",
       "      <td>-0.115663</td>\n",
       "    </tr>\n",
       "    <tr>\n",
       "      <th>301</th>\n",
       "      <td>0.290464</td>\n",
       "      <td>0.681005</td>\n",
       "      <td>-0.092738</td>\n",
       "      <td>-2.227533</td>\n",
       "      <td>-0.417635</td>\n",
       "      <td>-1.515125</td>\n",
       "      <td>1.435481</td>\n",
       "      <td>0.138373</td>\n",
       "      <td>0.265082</td>\n",
       "      <td>1.057772</td>\n",
       "      <td>...</td>\n",
       "      <td>-0.272888</td>\n",
       "      <td>1.079021</td>\n",
       "      <td>-0.939142</td>\n",
       "      <td>-0.081514</td>\n",
       "      <td>-0.251312</td>\n",
       "      <td>-1.100763</td>\n",
       "      <td>1.260850</td>\n",
       "      <td>-0.970725</td>\n",
       "      <td>0.996705</td>\n",
       "      <td>-0.115663</td>\n",
       "    </tr>\n",
       "    <tr>\n",
       "      <th>302</th>\n",
       "      <td>0.290464</td>\n",
       "      <td>-1.468418</td>\n",
       "      <td>-0.092738</td>\n",
       "      <td>-0.198357</td>\n",
       "      <td>-0.417635</td>\n",
       "      <td>1.064975</td>\n",
       "      <td>-0.696631</td>\n",
       "      <td>-0.896862</td>\n",
       "      <td>0.265082</td>\n",
       "      <td>-0.945384</td>\n",
       "      <td>...</td>\n",
       "      <td>-0.272888</td>\n",
       "      <td>1.079021</td>\n",
       "      <td>-0.939142</td>\n",
       "      <td>-0.081514</td>\n",
       "      <td>-0.251312</td>\n",
       "      <td>0.908461</td>\n",
       "      <td>-0.793116</td>\n",
       "      <td>1.030158</td>\n",
       "      <td>-1.003306</td>\n",
       "      <td>-0.115663</td>\n",
       "    </tr>\n",
       "  </tbody>\n",
       "</table>\n",
       "<p>303 rows × 23 columns</p>\n",
       "</div>"
      ],
      "text/plain": [
       "          age       sex    trtbps      chol       fbs  thalachh      exng  \\\n",
       "0    0.952197  0.681005  0.763956 -0.256334  2.394438  0.015443 -0.696631   \n",
       "1   -1.915313  0.681005 -0.092738  0.072199 -0.417635  1.633471 -0.696631   \n",
       "2   -1.474158 -1.468418 -0.092738 -0.816773 -0.417635  0.977514 -0.696631   \n",
       "3    0.180175  0.681005 -0.663867 -0.198357 -0.417635  1.239897 -0.696631   \n",
       "4    0.290464 -1.468418 -0.663867  2.082050 -0.417635  0.583939  1.435481   \n",
       "..        ...       ...       ...       ...       ...       ...       ...   \n",
       "298  0.290464 -1.468418  0.478391 -0.101730 -0.417635 -1.165281  1.435481   \n",
       "299 -1.033002  0.681005 -1.234996  0.342756 -0.417635 -0.771706 -0.696631   \n",
       "300  1.503641  0.681005  0.706843 -1.029353  2.394438 -0.378132 -0.696631   \n",
       "301  0.290464  0.681005 -0.092738 -2.227533 -0.417635 -1.515125  1.435481   \n",
       "302  0.290464 -1.468418 -0.092738 -0.198357 -0.417635  1.064975 -0.696631   \n",
       "\n",
       "      oldpeak       caa      CP_0  ...      SL_0      SL_1      SL_2  \\\n",
       "0    1.087338 -0.714429 -0.945384  ...  3.664502 -0.926766 -0.939142   \n",
       "1    2.122573 -0.714429 -0.945384  ...  3.664502 -0.926766 -0.939142   \n",
       "2    0.310912 -0.714429 -0.945384  ... -0.272888 -0.926766  1.064802   \n",
       "3   -0.206705 -0.714429 -0.945384  ... -0.272888 -0.926766  1.064802   \n",
       "4   -0.379244 -0.714429  1.057772  ... -0.272888 -0.926766  1.064802   \n",
       "..        ...       ...       ...  ...       ...       ...       ...   \n",
       "298 -0.724323 -0.714429  1.057772  ... -0.272888  1.079021 -0.939142   \n",
       "299  0.138373 -0.714429 -0.945384  ... -0.272888  1.079021 -0.939142   \n",
       "300  2.036303  1.244593  1.057772  ... -0.272888  1.079021 -0.939142   \n",
       "301  0.138373  0.265082  1.057772  ... -0.272888  1.079021 -0.939142   \n",
       "302 -0.896862  0.265082 -0.945384  ... -0.272888  1.079021 -0.939142   \n",
       "\n",
       "         TH_0      TH_1      TH_2      TH_3    RECG_0    RECG_1    RECG_2  \n",
       "0   -0.081514  3.979112 -1.100763 -0.793116  1.030158 -1.003306 -0.115663  \n",
       "1   -0.081514 -0.251312  0.908461 -0.793116 -0.970725  0.996705 -0.115663  \n",
       "2   -0.081514 -0.251312  0.908461 -0.793116  1.030158 -1.003306 -0.115663  \n",
       "3   -0.081514 -0.251312  0.908461 -0.793116 -0.970725  0.996705 -0.115663  \n",
       "4   -0.081514 -0.251312  0.908461 -0.793116 -0.970725  0.996705 -0.115663  \n",
       "..        ...       ...       ...       ...       ...       ...       ...  \n",
       "298 -0.081514 -0.251312 -1.100763  1.260850 -0.970725  0.996705 -0.115663  \n",
       "299 -0.081514 -0.251312 -1.100763  1.260850 -0.970725  0.996705 -0.115663  \n",
       "300 -0.081514 -0.251312 -1.100763  1.260850 -0.970725  0.996705 -0.115663  \n",
       "301 -0.081514 -0.251312 -1.100763  1.260850 -0.970725  0.996705 -0.115663  \n",
       "302 -0.081514 -0.251312  0.908461 -0.793116  1.030158 -1.003306 -0.115663  \n",
       "\n",
       "[303 rows x 23 columns]"
      ]
     },
     "execution_count": 277,
     "metadata": {},
     "output_type": "execute_result"
    }
   ],
   "source": [
    "X"
   ]
  },
  {
   "cell_type": "code",
   "execution_count": 278,
   "id": "53f06399",
   "metadata": {},
   "outputs": [
    {
     "data": {
      "text/plain": [
       "0      1\n",
       "1      1\n",
       "2      1\n",
       "3      1\n",
       "4      1\n",
       "      ..\n",
       "298    0\n",
       "299    0\n",
       "300    0\n",
       "301    0\n",
       "302    0\n",
       "Name: output, Length: 303, dtype: int64"
      ]
     },
     "execution_count": 278,
     "metadata": {},
     "output_type": "execute_result"
    }
   ],
   "source": [
    "y"
   ]
  },
  {
   "cell_type": "markdown",
   "id": "6d5eb981",
   "metadata": {},
   "source": [
    "# 4. Train the model"
   ]
  },
  {
   "cell_type": "markdown",
   "id": "cde5cf4d",
   "metadata": {},
   "source": [
    "It is critical to divide the data into training and evaluation sets before training the model because we need to assess how effectively a model generalizes to previously unknown data. The algorithm will now learn the pat- tern and mapping between the feature and the label that has been established."
   ]
  },
  {
   "cell_type": "code",
   "execution_count": 279,
   "id": "6ab5a5e4",
   "metadata": {},
   "outputs": [
    {
     "name": "stdout",
     "output_type": "stream",
     "text": [
      "X.shape =  (303, 23) X_train.shape =  (242, 23) X_test.shape =  (61, 23)\n"
     ]
    }
   ],
   "source": [
    "from sklearn.model_selection import train_test_split\n",
    "X_train, X_test, y_train, y_test = train_test_split(X, y, train_size = 0.8, random_state = 40)\n",
    "print(\"X.shape = \",X.shape, \"X_train.shape = \",X_train.shape, \"X_test.shape = \",X_test.shape)"
   ]
  },
  {
   "cell_type": "markdown",
   "id": "d3176586",
   "metadata": {},
   "source": [
    "# 5. Testing Using Different Models And Evaluating Using Performance Metrics"
   ]
  },
  {
   "cell_type": "markdown",
   "id": "3e324386",
   "metadata": {},
   "source": [
    "Accuracy is a metric used to de- termine how well or poorly a model performs on a validation set that has not yet been observed. Assess the model’s performance on validation sets in light of the present learning.Test the model with data that is not known.  When the system begins to function correctly, the model is considered complete.\n",
    "Confusion Matrix is made up of four elements, which are listed below. a) TN: True Negative, when the ham sample was projected to be ham. b) TP: True Positive, when the spam sample is anticipated to be spam. c) FP: False Positive, which occurs when a spam sample is believed to be ham. d) FN: False Negative, in which the ham sample was anticipated to be spam.We can generate equation using confusion Metrics.\n",
    "\n",
    "Accuracy = (TN + TP)/(TN + TP + FN + FP)\n",
    "\n",
    "Recall = TP/TP + FN\n",
    "\n",
    "Precession = TP/TP + FP\n",
    "\n",
    "f1 − square = 2 ∗ (Precession ∗ Recall)/(Precession + Recall)"
   ]
  },
  {
   "cell_type": "markdown",
   "id": "9848aef4",
   "metadata": {},
   "source": [
    "# 1. LogisticRegression"
   ]
  },
  {
   "cell_type": "markdown",
   "id": "91f2e7e9",
   "metadata": {},
   "source": [
    "The logistic function is used in this machine learning approach to measure the connection between the independent variable and category dependent variable."
   ]
  },
  {
   "cell_type": "code",
   "execution_count": 280,
   "id": "14864bfa",
   "metadata": {},
   "outputs": [],
   "source": [
    "from sklearn.linear_model import LogisticRegression\n",
    "lr=LogisticRegression()\n",
    "\n",
    "lr_model=lr.fit(X_train,y_train)\n",
    "lr_pred=lr_model.predict(X_test)"
   ]
  },
  {
   "cell_type": "code",
   "execution_count": 281,
   "id": "f7de7c11",
   "metadata": {},
   "outputs": [
    {
     "data": {
      "text/plain": [
       "array([[22,  4],\n",
       "       [ 2, 33]], dtype=int64)"
      ]
     },
     "execution_count": 281,
     "metadata": {},
     "output_type": "execute_result"
    }
   ],
   "source": [
    "from sklearn.metrics import confusion_matrix\n",
    "\n",
    "CMatrixlr=confusion_matrix(y_test,lr_pred)\n",
    "CMatrixlr"
   ]
  },
  {
   "cell_type": "code",
   "execution_count": 282,
   "id": "003ebc7a",
   "metadata": {},
   "outputs": [
    {
     "data": {
      "text/plain": [
       "<AxesSubplot:>"
      ]
     },
     "execution_count": 282,
     "metadata": {},
     "output_type": "execute_result"
    },
    {
     "data": {
      "image/png": "[encoded data removed]",
      "text/plain": [
       "<Figure size 432x288 with 2 Axes>"
      ]
     },
     "metadata": {
      "needs_background": "light"
     },
     "output_type": "display_data"
    }
   ],
   "source": [
    "import seaborn as sns\n",
    "sns.heatmap(CMatrixlr, annot=True,cmap='BuPu')"
   ]
  },
  {
   "cell_type": "code",
   "execution_count": 283,
   "id": "afec7cf1",
   "metadata": {},
   "outputs": [
    {
     "name": "stdout",
     "output_type": "stream",
     "text": [
      "Testing Accuracy For LR: 0.9016393442622951\n"
     ]
    }
   ],
   "source": [
    "TP=CMatrixlr[0][0]\n",
    "TN=CMatrixlr[1][1]\n",
    "FN=CMatrixlr[1][0]\n",
    "FP=CMatrixlr[0][1]\n",
    "print('Testing Accuracy For LR:',(TP+TN)/(TP+TN+FN+FP))"
   ]
  },
  {
   "cell_type": "code",
   "execution_count": 284,
   "id": "9b696e83",
   "metadata": {},
   "outputs": [
    {
     "name": "stdout",
     "output_type": "stream",
     "text": [
      "0.9016393442622951\n",
      "Logistic Regression Accuracy: 90.16%\n"
     ]
    }
   ],
   "source": [
    "from sklearn.metrics import accuracy_score\n",
    "print(accuracy_score(y_test,lr_pred))\n",
    "print(\"Logistic Regression Accuracy: {:.2f}%\".format(accuracy_score(y_test,lr_pred)*100))"
   ]
  },
  {
   "cell_type": "code",
   "execution_count": 285,
   "id": "534a2171",
   "metadata": {},
   "outputs": [
    {
     "name": "stdout",
     "output_type": "stream",
     "text": [
      "              precision    recall  f1-score   support\n",
      "\n",
      "           0       0.92      0.85      0.88        26\n",
      "           1       0.89      0.94      0.92        35\n",
      "\n",
      "    accuracy                           0.90        61\n",
      "   macro avg       0.90      0.89      0.90        61\n",
      "weighted avg       0.90      0.90      0.90        61\n",
      "\n"
     ]
    }
   ],
   "source": [
    "from sklearn.metrics import classification_report\n",
    "print(classification_report(y_test, lr_pred))"
   ]
  },
  {
   "cell_type": "code",
   "execution_count": 286,
   "id": "af449d94",
   "metadata": {},
   "outputs": [
    {
     "name": "stdout",
     "output_type": "stream",
     "text": [
      "LR ROC Accuracy: 0.8945\n",
      "LR ROC Curve:\n"
     ]
    },
    {
     "data": {
      "image/png": "[encoded data removed]",
      "text/plain": [
       "<Figure size 432x288 with 1 Axes>"
      ]
     },
     "metadata": {
      "needs_background": "light"
     },
     "output_type": "display_data"
    }
   ],
   "source": [
    "from sklearn. metrics import classification_report, roc_auc_score, roc_curve\n",
    "lr_roc = roc_auc_score(y_test, lr_pred)\n",
    "print(\"LR ROC Accuracy:\",round(lr_roc,4))\n",
    "print(\"LR ROC Curve:\")\n",
    "from matplotlib import pyplot as plt\n",
    "fpr, tpr, threholds = roc_curve(y_test, lr_pred)\n",
    "fig, ax = plt.subplots()\n",
    "ax.plot([0, 1], [0, 1], linestyle=\"--\")\n",
    "ax.plot(fpr, tpr, marker=\".\")\n",
    "plt.show(fig)"
   ]
  },
  {
   "cell_type": "markdown",
   "id": "bb7b21dc",
   "metadata": {},
   "source": [
    "# 2 Support Vector Machine"
   ]
  },
  {
   "cell_type": "markdown",
   "id": "c9ca8b74",
   "metadata": {},
   "source": [
    "The support vector machine algorithmic rule seeks a hyperplane that clearly categorizes data points in an N dimensional space where N is the number of attributes.There are a few possible hyper planes that might be used to divide the two groups of knowledge points. Finding the plane with the greatest margin that is, the greatest separation between each category’s knowledge points is our goal. In order to increase the confidence in the classification of upcoming knowledge points, the margin\n",
    "distance should be maximized."
   ]
  },
  {
   "cell_type": "code",
   "execution_count": 287,
   "id": "503b1864",
   "metadata": {},
   "outputs": [],
   "source": [
    "from sklearn.svm import SVC\n",
    "svm=SVC()\n",
    "\n",
    "svm_model=svm.fit(X_train,y_train)\n",
    "svm_pred=svm_model.predict(X_test)"
   ]
  },
  {
   "cell_type": "code",
   "execution_count": 288,
   "id": "6a8c9832",
   "metadata": {},
   "outputs": [
    {
     "name": "stdout",
     "output_type": "stream",
     "text": [
      "[[19  7]\n",
      " [ 4 31]]\n"
     ]
    },
    {
     "data": {
      "text/plain": [
       "<AxesSubplot:>"
      ]
     },
     "execution_count": 288,
     "metadata": {},
     "output_type": "execute_result"
    },
    {
     "data": {
      "image/png": "[encoded data removed]",
      "text/plain": [
       "<Figure size 432x288 with 2 Axes>"
      ]
     },
     "metadata": {
      "needs_background": "light"
     },
     "output_type": "display_data"
    }
   ],
   "source": [
    "CMatrixsvm=confusion_matrix(y_test,svm_pred)\n",
    "print(CMatrixsvm)\n",
    "sns.heatmap(CMatrixsvm, annot=True,cmap='BuPu')"
   ]
  },
  {
   "cell_type": "code",
   "execution_count": 289,
   "id": "10fc04b6",
   "metadata": {},
   "outputs": [
    {
     "name": "stdout",
     "output_type": "stream",
     "text": [
      "Testing Accuracy For SVM: 0.819672131147541\n"
     ]
    }
   ],
   "source": [
    "TP=CMatrixsvm[0][0]\n",
    "TN=CMatrixsvm[1][1]\n",
    "FN=CMatrixsvm[1][0]\n",
    "FP=CMatrixsvm[0][1]\n",
    "print('Testing Accuracy For SVM:',(TP+TN)/(TP+TN+FN+FP))"
   ]
  },
  {
   "cell_type": "code",
   "execution_count": 290,
   "id": "5b5d71e0",
   "metadata": {},
   "outputs": [
    {
     "name": "stdout",
     "output_type": "stream",
     "text": [
      "0.819672131147541\n",
      "SVM Accuracy: 81.97%\n",
      "              precision    recall  f1-score   support\n",
      "\n",
      "           0       0.83      0.73      0.78        26\n",
      "           1       0.82      0.89      0.85        35\n",
      "\n",
      "    accuracy                           0.82        61\n",
      "   macro avg       0.82      0.81      0.81        61\n",
      "weighted avg       0.82      0.82      0.82        61\n",
      "\n"
     ]
    }
   ],
   "source": [
    "print(accuracy_score(y_test,svm_pred))\n",
    "print(\"SVM Accuracy: {:.2f}%\".format(accuracy_score(y_test,svm_pred)*100))\n",
    "print(classification_report(y_test, svm_pred))"
   ]
  },
  {
   "cell_type": "code",
   "execution_count": 291,
   "id": "96d2005d",
   "metadata": {},
   "outputs": [
    {
     "name": "stdout",
     "output_type": "stream",
     "text": [
      "SVM ROC Accuracy: 0.8082\n",
      "SVM ROC Curve:\n"
     ]
    },
    {
     "data": {
      "image/png": "[encoded data removed]",
      "text/plain": [
       "<Figure size 432x288 with 1 Axes>"
      ]
     },
     "metadata": {
      "needs_background": "light"
     },
     "output_type": "display_data"
    }
   ],
   "source": [
    "from sklearn. metrics import classification_report, roc_auc_score, roc_curve\n",
    "svm_roc = roc_auc_score(y_test, svm_pred)\n",
    "print(\"SVM ROC Accuracy:\",round(svm_roc,4))\n",
    "print(\"SVM ROC Curve:\")\n",
    "from matplotlib import pyplot as plt\n",
    "fpr, tpr, threholds = roc_curve(y_test, svm_pred)\n",
    "fig, ax = plt.subplots()\n",
    "ax.plot([0, 1], [0, 1], linestyle=\"--\")\n",
    "ax.plot(fpr, tpr, marker=\".\")\n",
    "plt.show(fig)"
   ]
  },
  {
   "cell_type": "markdown",
   "id": "78af115f",
   "metadata": {},
   "source": [
    "# 3 Naive Bayes Classifier"
   ]
  },
  {
   "cell_type": "markdown",
   "id": "ad6be883",
   "metadata": {},
   "source": [
    "The Bayes’ Theorem, which presumes that features are statistically independent,can be used in supervised machine learning to create a Naive Thomas Bayes Classifier.The idea is based on the false assumption that input variables are independent of all alternatives, i.e., that once one variable is known, there is no way to know anything about alternative variables. Despite this assumption, it has shown to be a classifier that yields reliable results. Naive Bayes Classifiers are built on the Bayes Theorem, or more simply, the probability that an event (A) will occur given that an earlier event (B) has already occurred. In essence, the theorem allows a hypothesis to be changed whenever new evidence is offered.The following equation translates Bayes’ Theorem into probability terms:\n",
    "                                          P(A|B) = P(B|A)P(A)/P(B)"
   ]
  },
  {
   "cell_type": "code",
   "execution_count": 292,
   "id": "e82c5893",
   "metadata": {},
   "outputs": [],
   "source": [
    "from sklearn.naive_bayes import MultinomialNB\n",
    "nb=MultinomialNB()\n",
    "\n",
    "nb_model=lr.fit(X_train,y_train)\n",
    "nb_pred=lr_model.predict(X_test)"
   ]
  },
  {
   "cell_type": "code",
   "execution_count": 293,
   "id": "dee7d828",
   "metadata": {},
   "outputs": [
    {
     "name": "stdout",
     "output_type": "stream",
     "text": [
      "[[22  4]\n",
      " [ 2 33]]\n"
     ]
    },
    {
     "data": {
      "text/plain": [
       "<AxesSubplot:>"
      ]
     },
     "execution_count": 293,
     "metadata": {},
     "output_type": "execute_result"
    },
    {
     "data": {
      "image/png": "[encoded data removed]",
      "text/plain": [
       "<Figure size 432x288 with 2 Axes>"
      ]
     },
     "metadata": {
      "needs_background": "light"
     },
     "output_type": "display_data"
    }
   ],
   "source": [
    "CMatrixnb=confusion_matrix(y_test,lr_pred)\n",
    "print(CMatrixnb)\n",
    "sns.heatmap(CMatrixnb, annot=True,cmap='BuPu')"
   ]
  },
  {
   "cell_type": "code",
   "execution_count": 294,
   "id": "c453d9f2",
   "metadata": {},
   "outputs": [
    {
     "name": "stdout",
     "output_type": "stream",
     "text": [
      "Testing Accuracy For NB: 0.9016393442622951\n"
     ]
    }
   ],
   "source": [
    "TP=CMatrixnb[0][0]\n",
    "TN=CMatrixnb[1][1]\n",
    "FN=CMatrixnb[1][0]\n",
    "FP=CMatrixnb[0][1]\n",
    "print('Testing Accuracy For NB:',(TP+TN)/(TP+TN+FN+FP))"
   ]
  },
  {
   "cell_type": "code",
   "execution_count": 295,
   "id": "8dc684d2",
   "metadata": {},
   "outputs": [
    {
     "name": "stdout",
     "output_type": "stream",
     "text": [
      "0.9016393442622951\n",
      "Naive Bayes Classifier Accuracy: 90.16%\n",
      "              precision    recall  f1-score   support\n",
      "\n",
      "           0       0.92      0.85      0.88        26\n",
      "           1       0.89      0.94      0.92        35\n",
      "\n",
      "    accuracy                           0.90        61\n",
      "   macro avg       0.90      0.89      0.90        61\n",
      "weighted avg       0.90      0.90      0.90        61\n",
      "\n"
     ]
    }
   ],
   "source": [
    "print(accuracy_score(y_test,nb_pred))\n",
    "print(\"Naive Bayes Classifier Accuracy: {:.2f}%\".format(accuracy_score(y_test,nb_pred)*100))\n",
    "print(classification_report(y_test, nb_pred))"
   ]
  },
  {
   "cell_type": "code",
   "execution_count": 296,
   "id": "d62c8ab7",
   "metadata": {},
   "outputs": [
    {
     "name": "stdout",
     "output_type": "stream",
     "text": [
      "NB ROC Accuracy: 0.8945\n",
      "NB ROC Curve:\n"
     ]
    },
    {
     "data": {
      "image/png": "[encoded data removed]",
      "text/plain": [
       "<Figure size 432x288 with 1 Axes>"
      ]
     },
     "metadata": {
      "needs_background": "light"
     },
     "output_type": "display_data"
    }
   ],
   "source": [
    "from sklearn. metrics import classification_report, roc_auc_score, roc_curve\n",
    "nb_roc = roc_auc_score(y_test, nb_pred)\n",
    "print(\"NB ROC Accuracy:\",round(nb_roc,4))\n",
    "print(\"NB ROC Curve:\")\n",
    "from matplotlib import pyplot as plt\n",
    "fpr, tpr, threholds = roc_curve(y_test, nb_pred)\n",
    "fig, ax = plt.subplots()\n",
    "ax.plot([0, 1], [0, 1], linestyle=\"--\")\n",
    "ax.plot(fpr, tpr, marker=\".\")\n",
    "plt.show(fig)"
   ]
  },
  {
   "cell_type": "markdown",
   "id": "c8b157bf",
   "metadata": {},
   "source": [
    "# 4.MLP classification"
   ]
  },
  {
   "cell_type": "markdown",
   "id": "8130d402",
   "metadata": {},
   "source": [
    "1. MLPClassifier stands for Multi-layer Perceptron classifier\n",
    "2. A multilayer perceptron (MLP) is a feedforward artificial neural network that generates a set of outputs from a set of inputs. An MLP is characterized by several layers of input nodes connected as a directed graph between the input and output layers. MLP uses backpropogation for training the network. MLP is a deep learning method."
   ]
  },
  {
   "cell_type": "code",
   "execution_count": 297,
   "id": "c63fc6ec",
   "metadata": {},
   "outputs": [],
   "source": [
    "from sklearn.neural_network import MLPClassifier\n",
    "model = MLPClassifier()\n",
    "mlp_model=model.fit(X_train,y_train)\n",
    "mlp_pred=mlp_model.predict(X_test)"
   ]
  },
  {
   "cell_type": "code",
   "execution_count": 298,
   "id": "723cecdf",
   "metadata": {},
   "outputs": [
    {
     "name": "stdout",
     "output_type": "stream",
     "text": [
      "[[21  5]\n",
      " [ 3 32]]\n"
     ]
    },
    {
     "data": {
      "text/plain": [
       "<AxesSubplot:>"
      ]
     },
     "execution_count": 298,
     "metadata": {},
     "output_type": "execute_result"
    },
    {
     "data": {
      "image/png": "[encoded data removed]",
      "text/plain": [
       "<Figure size 432x288 with 2 Axes>"
      ]
     },
     "metadata": {
      "needs_background": "light"
     },
     "output_type": "display_data"
    }
   ],
   "source": [
    "CMatrixmlp=confusion_matrix(y_test,mlp_pred)\n",
    "print(CMatrixmlp)\n",
    "sns.heatmap(CMatrixmlp, annot=True,cmap=\"Blues\")"
   ]
  },
  {
   "cell_type": "code",
   "execution_count": 299,
   "id": "04184eb9",
   "metadata": {},
   "outputs": [
    {
     "name": "stdout",
     "output_type": "stream",
     "text": [
      "Testing Accuracy For MLP: 0.8688524590163934\n"
     ]
    }
   ],
   "source": [
    "TP=CMatrixmlp[0][0]\n",
    "TN=CMatrixmlp[1][1]\n",
    "FN=CMatrixmlp[1][0]\n",
    "FP=CMatrixmlp[0][1]\n",
    "print('Testing Accuracy For MLP:',(TP+TN)/(TP+TN+FN+FP))"
   ]
  },
  {
   "cell_type": "code",
   "execution_count": 300,
   "id": "81736b94",
   "metadata": {},
   "outputs": [
    {
     "name": "stdout",
     "output_type": "stream",
     "text": [
      "Neural Network Accuracy MLP: 86.89%\n"
     ]
    }
   ],
   "source": [
    "accuracy_score(y_test,mlp_pred)*100\n",
    "print(\"Neural Network Accuracy MLP: {:.2f}%\".format(accuracy_score(y_test,mlp_pred)*100))"
   ]
  },
  {
   "cell_type": "code",
   "execution_count": 301,
   "id": "7e5e5079",
   "metadata": {},
   "outputs": [
    {
     "name": "stdout",
     "output_type": "stream",
     "text": [
      "0.8688524590163934\n",
      "MLP Accuracy: 86.89%\n",
      "              precision    recall  f1-score   support\n",
      "\n",
      "           0       0.92      0.85      0.88        26\n",
      "           1       0.89      0.94      0.92        35\n",
      "\n",
      "    accuracy                           0.90        61\n",
      "   macro avg       0.90      0.89      0.90        61\n",
      "weighted avg       0.90      0.90      0.90        61\n",
      "\n"
     ]
    }
   ],
   "source": [
    "print(accuracy_score(y_test,mlp_pred))\n",
    "print(\"MLP Accuracy: {:.2f}%\".format(accuracy_score(y_test,mlp_pred)*100))\n",
    "print(classification_report(y_test, nb_pred))"
   ]
  },
  {
   "cell_type": "code",
   "execution_count": 302,
   "id": "63940ff4",
   "metadata": {},
   "outputs": [
    {
     "name": "stdout",
     "output_type": "stream",
     "text": [
      "MLP ROC Accuracy: 0.861\n",
      "MLP ROC Curve:\n"
     ]
    },
    {
     "data": {
      "image/png": "[encoded data removed]",
      "text/plain": [
       "<Figure size 432x288 with 1 Axes>"
      ]
     },
     "metadata": {
      "needs_background": "light"
     },
     "output_type": "display_data"
    }
   ],
   "source": [
    "from sklearn. metrics import classification_report, roc_auc_score, roc_curve\n",
    "mlp_roc = roc_auc_score(y_test, mlp_pred)\n",
    "print(\"MLP ROC Accuracy:\",round(mlp_roc,4))\n",
    "print(\"MLP ROC Curve:\")\n",
    "from matplotlib import pyplot as plt\n",
    "fpr, tpr, threholds = roc_curve(y_test, mlp_pred)\n",
    "fig, ax = plt.subplots()\n",
    "ax.plot([0, 1], [0, 1], linestyle=\"--\")\n",
    "ax.plot(fpr, tpr, marker=\".\")\n",
    "plt.show(fig)"
   ]
  },
  {
   "cell_type": "markdown",
   "id": "aa6995cc",
   "metadata": {},
   "source": [
    "# 5. ANN Classification"
   ]
  },
  {
   "cell_type": "markdown",
   "id": "c06fab1c",
   "metadata": {},
   "source": [
    "The network has 4 layers, 3 hidden layer and an output layer. The hidden layer will use the relu function for activations and the output layer will use the sigmoid funtion for activations (For Binary Results). The output layer has only one node and is used for the regression, the output of the node is the same as the input of the node.\n",
    "\n",
    "1. That is, the activation function is f(x)=x . A function that takes the input signal and generates an output signal, but takes into account the threshold, is called an activation function. We work through each layer of our network calculating the outputs for each neuron. All of the outputs from one layer become inputs to the neurons on the next layer. This process is called forward propagation.\n",
    "\n",
    "2. We use the weights to propagate signals forward from the input to the output layers in a neural network. We use the weights to also propagate error backwards from the output back into the network to update our weights. This is called backpropagation."
   ]
  },
  {
   "cell_type": "code",
   "execution_count": 303,
   "id": "40be9a43",
   "metadata": {},
   "outputs": [],
   "source": [
    "#from keras.models import Sequential\n",
    "#from keras.layers import Conv2D, MaxPooling2D\n",
    "#from keras.layers import Activation, Dropout, Flatten, Dense\n",
    "import keras\n",
    "from keras.models import Model\n",
    "from keras.layers import Dense, Input"
   ]
  },
  {
   "cell_type": "code",
   "execution_count": 304,
   "id": "41f4b10b",
   "metadata": {},
   "outputs": [
    {
     "name": "stdout",
     "output_type": "stream",
     "text": [
      "Model: \"model_5\"\n",
      "_________________________________________________________________\n",
      " Layer (type)                Output Shape              Param #   \n",
      "=================================================================\n",
      " input_6 (InputLayer)        [(None, 23)]              0         \n",
      "                                                                 \n",
      " dense_20 (Dense)            (None, 48)                1152      \n",
      "                                                                 \n",
      " dense_21 (Dense)            (None, 30)                1470      \n",
      "                                                                 \n",
      " dense_22 (Dense)            (None, 14)                434       \n",
      "                                                                 \n",
      " dense_23 (Dense)            (None, 1)                 15        \n",
      "                                                                 \n",
      "=================================================================\n",
      "Total params: 3,071\n",
      "Trainable params: 3,071\n",
      "Non-trainable params: 0\n",
      "_________________________________________________________________\n"
     ]
    }
   ],
   "source": [
    "#funtionalAPI\n",
    "#inputlayer\n",
    "input1 = Input(shape=(X_train.shape[1]))\n",
    "\n",
    "#hidden layer1\n",
    "hidden1 = Dense(48, activation='relu')(input1)\n",
    "#D1 = Dropout(0.5)(hidden1)\n",
    "\n",
    "#hidden layer2\n",
    "hidden2 = Dense(30, activation='relu')(hidden1)\n",
    "#D2 = Dropout(0.5)(hidden2)\n",
    "\n",
    "#hidden layer3\n",
    "hidden3 = Dense(14, activation='relu')(hidden2)\n",
    "#D3 = Dropout(0.5)(hidden3)\n",
    "\n",
    "#output layer\n",
    "output = Dense(1, activation='sigmoid')(hidden3)\n",
    "\n",
    "ann_model = Model(inputs=input1, outputs=output)\n",
    "ann_model.summary()\n",
    "\n",
    "#Compiling the model\n",
    "ann_model.compile(optimizer=\"adam\",loss=\"binary_crossentropy\",metrics=[\"accuracy\"])"
   ]
  },
  {
   "cell_type": "code",
   "execution_count": 305,
   "id": "b00f6d29",
   "metadata": {},
   "outputs": [],
   "source": [
    "# Creating a callback for ANN model\n",
    "from tensorflow.keras.callbacks import EarlyStopping\n",
    "earlystopping= EarlyStopping(monitor='val_loss', mode='min', patience=5)"
   ]
  },
  {
   "cell_type": "code",
   "execution_count": 306,
   "id": "8731a22d",
   "metadata": {},
   "outputs": [
    {
     "name": "stdout",
     "output_type": "stream",
     "text": [
      "Epoch 1/60\n",
      "10/10 [==============================] - 1s 17ms/step - loss: 0.7003 - accuracy: 0.5496 - val_loss: 0.6379 - val_accuracy: 0.6066\n",
      "Epoch 2/60\n",
      "10/10 [==============================] - 0s 4ms/step - loss: 0.6201 - accuracy: 0.6074 - val_loss: 0.5865 - val_accuracy: 0.7705\n",
      "Epoch 3/60\n",
      "10/10 [==============================] - 0s 6ms/step - loss: 0.5624 - accuracy: 0.7355 - val_loss: 0.5436 - val_accuracy: 0.8033\n",
      "Epoch 4/60\n",
      "10/10 [==============================] - 0s 4ms/step - loss: 0.5137 - accuracy: 0.8099 - val_loss: 0.5060 - val_accuracy: 0.8033\n",
      "Epoch 5/60\n",
      "10/10 [==============================] - 0s 4ms/step - loss: 0.4735 - accuracy: 0.8140 - val_loss: 0.4736 - val_accuracy: 0.8361\n",
      "Epoch 6/60\n",
      "10/10 [==============================] - 0s 5ms/step - loss: 0.4391 - accuracy: 0.8347 - val_loss: 0.4479 - val_accuracy: 0.8361\n",
      "Epoch 7/60\n",
      "10/10 [==============================] - 0s 4ms/step - loss: 0.4089 - accuracy: 0.8430 - val_loss: 0.4270 - val_accuracy: 0.8525\n",
      "Epoch 8/60\n",
      "10/10 [==============================] - 0s 4ms/step - loss: 0.3799 - accuracy: 0.8388 - val_loss: 0.4088 - val_accuracy: 0.8361\n",
      "Epoch 9/60\n",
      "10/10 [==============================] - 0s 5ms/step - loss: 0.3583 - accuracy: 0.8595 - val_loss: 0.3945 - val_accuracy: 0.8361\n",
      "Epoch 10/60\n",
      "10/10 [==============================] - 0s 4ms/step - loss: 0.3374 - accuracy: 0.8678 - val_loss: 0.3833 - val_accuracy: 0.8361\n",
      "Epoch 11/60\n",
      "10/10 [==============================] - 0s 4ms/step - loss: 0.3197 - accuracy: 0.8719 - val_loss: 0.3729 - val_accuracy: 0.8361\n",
      "Epoch 12/60\n",
      "10/10 [==============================] - 0s 6ms/step - loss: 0.3034 - accuracy: 0.8843 - val_loss: 0.3690 - val_accuracy: 0.8361\n",
      "Epoch 13/60\n",
      "10/10 [==============================] - 0s 4ms/step - loss: 0.2888 - accuracy: 0.8843 - val_loss: 0.3639 - val_accuracy: 0.8361\n",
      "Epoch 14/60\n",
      "10/10 [==============================] - 0s 4ms/step - loss: 0.2760 - accuracy: 0.8884 - val_loss: 0.3613 - val_accuracy: 0.8361\n",
      "Epoch 15/60\n",
      "10/10 [==============================] - 0s 6ms/step - loss: 0.2633 - accuracy: 0.8884 - val_loss: 0.3600 - val_accuracy: 0.8361\n",
      "Epoch 16/60\n",
      "10/10 [==============================] - 0s 4ms/step - loss: 0.2514 - accuracy: 0.8967 - val_loss: 0.3607 - val_accuracy: 0.8361\n",
      "Epoch 17/60\n",
      "10/10 [==============================] - 0s 4ms/step - loss: 0.2393 - accuracy: 0.9008 - val_loss: 0.3628 - val_accuracy: 0.8361\n",
      "Epoch 18/60\n",
      "10/10 [==============================] - 0s 6ms/step - loss: 0.2284 - accuracy: 0.9091 - val_loss: 0.3646 - val_accuracy: 0.8361\n",
      "Epoch 19/60\n",
      "10/10 [==============================] - 0s 4ms/step - loss: 0.2184 - accuracy: 0.9132 - val_loss: 0.3663 - val_accuracy: 0.8361\n",
      "Epoch 20/60\n",
      "10/10 [==============================] - 0s 4ms/step - loss: 0.2067 - accuracy: 0.9215 - val_loss: 0.3705 - val_accuracy: 0.8361\n",
      "Epoch 1/60\n",
      "10/10 [==============================] - 0s 7ms/step - loss: 0.1973 - accuracy: 0.9174 - val_loss: 0.3713 - val_accuracy: 0.8197\n",
      "Epoch 2/60\n",
      "10/10 [==============================] - 0s 4ms/step - loss: 0.1872 - accuracy: 0.9380 - val_loss: 0.3737 - val_accuracy: 0.8197\n",
      "Epoch 3/60\n",
      "10/10 [==============================] - 0s 6ms/step - loss: 0.1781 - accuracy: 0.9463 - val_loss: 0.3798 - val_accuracy: 0.8197\n",
      "Epoch 4/60\n",
      "10/10 [==============================] - 0s 5ms/step - loss: 0.1697 - accuracy: 0.9421 - val_loss: 0.3854 - val_accuracy: 0.8197\n",
      "Epoch 5/60\n",
      "10/10 [==============================] - 0s 4ms/step - loss: 0.1604 - accuracy: 0.9504 - val_loss: 0.3915 - val_accuracy: 0.8033\n",
      "Epoch 6/60\n",
      "10/10 [==============================] - 0s 5ms/step - loss: 0.1525 - accuracy: 0.9545 - val_loss: 0.3958 - val_accuracy: 0.8197\n"
     ]
    },
    {
     "data": {
      "text/plain": [
       "<keras.callbacks.History at 0x2c5902d9130>"
      ]
     },
     "execution_count": 306,
     "metadata": {},
     "output_type": "execute_result"
    }
   ],
   "source": [
    "# Fittitng the ANN model with training dataset\n",
    "ann_model_op = ann_model.fit(X_train, y_train, batch_size = 25, epochs = 60,validation_data=[X_test,y_test],callbacks=[earlystopping])\n",
    "ann_model.fit(X_train, y_train, batch_size = 25, epochs = 60,validation_data=[X_test,y_test],callbacks=[earlystopping])"
   ]
  },
  {
   "cell_type": "code",
   "execution_count": 307,
   "id": "2ce519f4",
   "metadata": {},
   "outputs": [
    {
     "name": "stdout",
     "output_type": "stream",
     "text": [
      "WARNING:tensorflow:6 out of the last 13 calls to <function Model.make_predict_function.<locals>.predict_function at 0x000002C5901D61F0> triggered tf.function retracing. Tracing is expensive and the excessive number of tracings could be due to (1) creating @tf.function repeatedly in a loop, (2) passing tensors with different shapes, (3) passing Python objects instead of tensors. For (1), please define your @tf.function outside of the loop. For (2), @tf.function has reduce_retracing=True option that can avoid unnecessary retracing. For (3), please refer to https://www.tensorflow.org/guide/function#controlling_retracing and https://www.tensorflow.org/api_docs/python/tf/function for  more details.\n",
      "2/2 [==============================] - 0s 13ms/step\n"
     ]
    }
   ],
   "source": [
    "ann_pred = (ann_model.predict(X_test) > 0.5).astype(\"int32\")"
   ]
  },
  {
   "cell_type": "code",
   "execution_count": 308,
   "id": "9a7f89e2",
   "metadata": {},
   "outputs": [
    {
     "name": "stdout",
     "output_type": "stream",
     "text": [
      "[[20  6]\n",
      " [ 5 30]]\n"
     ]
    },
    {
     "data": {
      "text/plain": [
       "<AxesSubplot:>"
      ]
     },
     "execution_count": 308,
     "metadata": {},
     "output_type": "execute_result"
    },
    {
     "data": {
      "image/png": "[encoded data removed]",
      "text/plain": [
       "<Figure size 432x288 with 2 Axes>"
      ]
     },
     "metadata": {
      "needs_background": "light"
     },
     "output_type": "display_data"
    }
   ],
   "source": [
    "CMatrixann=confusion_matrix(y_test,ann_pred)\n",
    "print(CMatrixann)\n",
    "sns.heatmap(CMatrixann, annot=True,cmap=\"viridis\")"
   ]
  },
  {
   "cell_type": "code",
   "execution_count": 309,
   "id": "6790a3c1",
   "metadata": {},
   "outputs": [
    {
     "name": "stdout",
     "output_type": "stream",
     "text": [
      "Testing Accuracy For ANN: 0.819672131147541\n"
     ]
    }
   ],
   "source": [
    "TP=CMatrixann[0][0]\n",
    "TN=CMatrixann[1][1]\n",
    "FN=CMatrixann[1][0]\n",
    "FP=CMatrixann[0][1]\n",
    "print('Testing Accuracy For ANN:',(TP+TN)/(TP+TN+FN+FP))"
   ]
  },
  {
   "cell_type": "code",
   "execution_count": 310,
   "id": "302b3f5b",
   "metadata": {},
   "outputs": [
    {
     "name": "stdout",
     "output_type": "stream",
     "text": [
      "0.819672131147541\n",
      "Naive Bayes Classifier Accuracy: 81.97%\n",
      "              precision    recall  f1-score   support\n",
      "\n",
      "           0       0.80      0.77      0.78        26\n",
      "           1       0.83      0.86      0.85        35\n",
      "\n",
      "    accuracy                           0.82        61\n",
      "   macro avg       0.82      0.81      0.81        61\n",
      "weighted avg       0.82      0.82      0.82        61\n",
      "\n"
     ]
    }
   ],
   "source": [
    "print(accuracy_score(y_test,ann_pred))\n",
    "print(\"Naive Bayes Classifier Accuracy: {:.2f}%\".format(accuracy_score(y_test,ann_pred)*100))\n",
    "print(classification_report(y_test, ann_pred))"
   ]
  },
  {
   "cell_type": "code",
   "execution_count": 311,
   "id": "fea2414e",
   "metadata": {},
   "outputs": [
    {
     "data": {
      "image/png": "[encoded data removed]",
      "text/plain": [
       "<Figure size 720x432 with 1 Axes>"
      ]
     },
     "metadata": {
      "needs_background": "light"
     },
     "output_type": "display_data"
    }
   ],
   "source": [
    "#UnderStanding of ANN Output by Plotting\n",
    "# summarize history for accuracy\n",
    "#plt.rcParams[\"figure.figsize\"] = (10,8)\n",
    "plt.figure(figsize=(10, 6))\n",
    "plt.plot(ann_model_op.history['accuracy'])\n",
    "plt.plot(ann_model_op.history['val_accuracy'])\n",
    "plt.title('model accuracy')\n",
    "plt.ylabel('accuracy')\n",
    "plt.xlabel('epoch')\n",
    "plt.legend(['train', 'test'], loc='upper left')\n",
    "plt.show()"
   ]
  },
  {
   "cell_type": "markdown",
   "id": "3aaad8e3",
   "metadata": {},
   "source": [
    "# 6. Compare Models and Select the Best Model"
   ]
  },
  {
   "cell_type": "markdown",
   "id": "1b32c7d0",
   "metadata": {},
   "source": [
    "Here I will compare differents model and according to accuracy I will select the best model"
   ]
  },
  {
   "cell_type": "code",
   "execution_count": 312,
   "id": "23e3ec60",
   "metadata": {},
   "outputs": [
    {
     "data": {
      "text/html": [
       "<div>\n",
       "<style scoped>\n",
       "    .dataframe tbody tr th:only-of-type {\n",
       "        vertical-align: middle;\n",
       "    }\n",
       "\n",
       "    .dataframe tbody tr th {\n",
       "        vertical-align: top;\n",
       "    }\n",
       "\n",
       "    .dataframe thead th {\n",
       "        text-align: right;\n",
       "    }\n",
       "</style>\n",
       "<table border=\"1\" class=\"dataframe\">\n",
       "  <thead>\n",
       "    <tr style=\"text-align: right;\">\n",
       "      <th></th>\n",
       "      <th>Models</th>\n",
       "      <th>Accuracy</th>\n",
       "    </tr>\n",
       "  </thead>\n",
       "  <tbody>\n",
       "    <tr>\n",
       "      <th>0</th>\n",
       "      <td>LR</td>\n",
       "      <td>90.163934</td>\n",
       "    </tr>\n",
       "    <tr>\n",
       "      <th>1</th>\n",
       "      <td>SVM</td>\n",
       "      <td>81.967213</td>\n",
       "    </tr>\n",
       "    <tr>\n",
       "      <th>2</th>\n",
       "      <td>NB</td>\n",
       "      <td>90.163934</td>\n",
       "    </tr>\n",
       "    <tr>\n",
       "      <th>3</th>\n",
       "      <td>MLP</td>\n",
       "      <td>86.885246</td>\n",
       "    </tr>\n",
       "    <tr>\n",
       "      <th>4</th>\n",
       "      <td>ANN</td>\n",
       "      <td>81.967213</td>\n",
       "    </tr>\n",
       "  </tbody>\n",
       "</table>\n",
       "</div>"
      ],
      "text/plain": [
       "  Models   Accuracy\n",
       "0     LR  90.163934\n",
       "1    SVM  81.967213\n",
       "2     NB  90.163934\n",
       "3    MLP  86.885246\n",
       "4    ANN  81.967213"
      ]
     },
     "execution_count": 312,
     "metadata": {},
     "output_type": "execute_result"
    }
   ],
   "source": [
    "final_data=pd.DataFrame({'Models':['LR','SVM','NB','MLP','ANN'],\n",
    "                        'Accuracy':[accuracy_score(y_test,lr_pred)*100,accuracy_score(y_test,svm_pred)*100,accuracy_score(y_test,nb_pred)*100,accuracy_score(y_test,mlp_pred)*100,accuracy_score(y_test,ann_pred.round())*100]})\n",
    "final_data"
   ]
  },
  {
   "cell_type": "code",
   "execution_count": 313,
   "id": "5f9f418b",
   "metadata": {},
   "outputs": [
    {
     "data": {
      "text/plain": [
       "<AxesSubplot:xlabel='Models', ylabel='Accuracy'>"
      ]
     },
     "execution_count": 313,
     "metadata": {},
     "output_type": "execute_result"
    },
    {
     "data": {
      "image/png": "[encoded data removed]",
      "text/plain": [
       "<Figure size 360x360 with 1 Axes>"
      ]
     },
     "metadata": {
      "needs_background": "light"
     },
     "output_type": "display_data"
    }
   ],
   "source": [
    "plt.figure(figsize=(5, 5))\n",
    "sns.barplot(x =final_data['Models'], y =final_data['Accuracy'])"
   ]
  },
  {
   "cell_type": "markdown",
   "id": "b27ee66f",
   "metadata": {},
   "source": [
    "# 7. Build a Prediction System"
   ]
  },
  {
   "cell_type": "markdown",
   "id": "dee34f0f",
   "metadata": {},
   "source": [
    "I will build a predection system by Naive Bayes Classifier."
   ]
  },
  {
   "cell_type": "code",
   "execution_count": 314,
   "id": "3704a0a0",
   "metadata": {},
   "outputs": [],
   "source": [
    "#we have trained our model on X_train and y_train (means on 80% data only).\n",
    "#Before model deployment, we have to train our selected mode on 100% data.\n",
    "#So let’s train our NB model on 100% data."
   ]
  },
  {
   "cell_type": "code",
   "execution_count": 315,
   "id": "eac0de53",
   "metadata": {},
   "outputs": [
    {
     "data": {
      "text/plain": [
       "MultinomialNB()"
      ]
     },
     "execution_count": 315,
     "metadata": {},
     "output_type": "execute_result"
    }
   ],
   "source": [
    "y = data['output'].copy()\n",
    "X = data.drop('output', axis=1).copy()\n",
    "from sklearn.naive_bayes import MultinomialNB\n",
    "nb=MultinomialNB()\n",
    "nb.fit(X,y)"
   ]
  },
  {
   "cell_type": "code",
   "execution_count": 316,
   "id": "58853a3d",
   "metadata": {},
   "outputs": [],
   "source": [
    "#Type 1 Of Predicting\n",
    "input_data = (52,1,2,172,199,1,1,162,0,0.5,2,0,3)\n",
    "\n",
    "# change the input data to a numpy array\n",
    "numpy_array= np.asarray(input_data)\n",
    "\n",
    "# reshape the numpy array as we are predicting for only on instance\n",
    "input_data_reshaped = numpy_array.reshape(1,-1)\n",
    "\n",
    "#predictionT1 \n",
    "predictionT1 = nb.predict(input_data_reshaped)\n"
   ]
  },
  {
   "cell_type": "code",
   "execution_count": 317,
   "id": "74a8317a",
   "metadata": {},
   "outputs": [
    {
     "name": "stdout",
     "output_type": "stream",
     "text": [
      "[1]\n",
      "The Person has Heart Disease\n"
     ]
    }
   ],
   "source": [
    "print(predictionT1)\n",
    "\n",
    "if (predictionT1[0]== 0):\n",
    "  print('The Person does not have a Heart Disease')\n",
    "else:\n",
    "  print('The Person has Heart Disease')"
   ]
  },
  {
   "cell_type": "code",
   "execution_count": 318,
   "id": "26e662c3",
   "metadata": {},
   "outputs": [
    {
     "data": {
      "text/html": [
       "<div>\n",
       "<style scoped>\n",
       "    .dataframe tbody tr th:only-of-type {\n",
       "        vertical-align: middle;\n",
       "    }\n",
       "\n",
       "    .dataframe tbody tr th {\n",
       "        vertical-align: top;\n",
       "    }\n",
       "\n",
       "    .dataframe thead th {\n",
       "        text-align: right;\n",
       "    }\n",
       "</style>\n",
       "<table border=\"1\" class=\"dataframe\">\n",
       "  <thead>\n",
       "    <tr style=\"text-align: right;\">\n",
       "      <th></th>\n",
       "      <th>age</th>\n",
       "      <th>sex</th>\n",
       "      <th>cp</th>\n",
       "      <th>trestbps</th>\n",
       "      <th>chol</th>\n",
       "      <th>fbs</th>\n",
       "      <th>restecg</th>\n",
       "      <th>thalach</th>\n",
       "      <th>exang</th>\n",
       "      <th>oldpeak</th>\n",
       "      <th>slp</th>\n",
       "      <th>ca</th>\n",
       "      <th>thall</th>\n",
       "    </tr>\n",
       "  </thead>\n",
       "  <tbody>\n",
       "    <tr>\n",
       "      <th>0</th>\n",
       "      <td>52</td>\n",
       "      <td>1</td>\n",
       "      <td>2</td>\n",
       "      <td>172</td>\n",
       "      <td>199</td>\n",
       "      <td>1</td>\n",
       "      <td>1</td>\n",
       "      <td>162</td>\n",
       "      <td>0</td>\n",
       "      <td>0.5</td>\n",
       "      <td>2</td>\n",
       "      <td>0</td>\n",
       "      <td>3</td>\n",
       "    </tr>\n",
       "  </tbody>\n",
       "</table>\n",
       "</div>"
      ],
      "text/plain": [
       "   age  sex  cp  trestbps  chol  fbs  restecg  thalach  exang  oldpeak  slp  \\\n",
       "0   52    1   2       172   199    1        1      162      0      0.5    2   \n",
       "\n",
       "   ca  thall  \n",
       "0   0      3  "
      ]
     },
     "execution_count": 318,
     "metadata": {},
     "output_type": "execute_result"
    }
   ],
   "source": [
    "#Type 2 Of Predicting\n",
    "newdata= pd.DataFrame({'age':52, 'sex':1, 'cp':2, 'trestbps':172, 'chol':199, 'fbs':1, 'restecg':1, 'thalach':162,\n",
    "                        'exang':0, 'oldpeak':0.5, 'slp':2, 'ca':0, 'thall':3},index=[0])\n",
    "\n",
    "#predictionT2\n",
    "predictionT2 = nb.predict(newdata)\n",
    "newdata"
   ]
  },
  {
   "cell_type": "code",
   "execution_count": 319,
   "id": "86b74b69",
   "metadata": {},
   "outputs": [
    {
     "name": "stdout",
     "output_type": "stream",
     "text": [
      "[1]\n",
      "The Person has Heart Disease\n"
     ]
    }
   ],
   "source": [
    "print(predictionT2)\n",
    "\n",
    "if (predictionT2[0]== 0):\n",
    "  print('The Person does not have a Heart Disease')\n",
    "else:\n",
    "  print('The Person has Heart Disease')"
   ]
  },
  {
   "cell_type": "markdown",
   "id": "6277b7ee",
   "metadata": {},
   "source": [
    "# Conclusion"
   ]
  },
  {
   "cell_type": "markdown",
   "id": "a2598abd",
   "metadata": {},
   "source": [
    "To summarize, our approach is beneficial to individuals who are always concerned about their health and want to know what is going on within their bodies through information. Our major goal in developing this system is to get to know them and learn about their health and wellness practices. Those suffering from mental illnesses such as depression or anxiety are especially vulnerable. This group's members are capable of overcoming their difficulties and returning to their old life. The accuracy of sickness prediction will be increased as a result of the user's symptoms. Furthermore, the system will provide inspirational words and pictures to help the user stay motivated."
   ]
  }
 ],
 "metadata": {
  "kernelspec": {
   "display_name": "Python 3",
   "language": "python",
   "name": "python3"
  },
  "language_info": {
   "codemirror_mode": {
    "name": "ipython",
    "version": 3
   },
   "file_extension": ".py",
   "mimetype": "text/x-python",
   "name": "python",
   "nbconvert_exporter": "python",
   "pygments_lexer": "ipython3",
   "version": "3.8.8"
  }
 },
 "nbformat": 4,
 "nbformat_minor": 5
}
